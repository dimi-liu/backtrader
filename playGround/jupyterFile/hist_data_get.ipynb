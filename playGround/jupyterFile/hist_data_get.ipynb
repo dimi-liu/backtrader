{
 "cells": [
  {
   "cell_type": "code",
   "execution_count": 1,
   "id": "0719a23f",
   "metadata": {},
   "outputs": [],
   "source": [
    "import pandas as pd\n",
    "import sqlite3\n",
    "import datetime as dt\n",
    "import os\n",
    "from pathlib import Path\n",
    "import akshare as ak\n",
    "import traceback"
   ]
  },
  {
   "cell_type": "code",
   "execution_count": 2,
   "id": "04e9c1dd",
   "metadata": {},
   "outputs": [
    {
     "name": "stderr",
     "output_type": "stream",
     "text": [
      "                                                                                                                       \r"
     ]
    }
   ],
   "source": [
    "spot_sina = ak.stock_zh_a_spot()"
   ]
  },
  {
   "cell_type": "code",
   "execution_count": 3,
   "id": "1e733d79",
   "metadata": {},
   "outputs": [],
   "source": [
    "spot_em = ak.stock_zh_a_spot_em()\n",
    "spot_sh_em = ak.stock_sh_a_spot_em()\n",
    "spot_sz_em = ak.stock_sz_a_spot_em()\n",
    "spot_bj_em = ak.stock_bj_a_spot_em()\n",
    "spot_bew_em = ak.stock_new_a_spot_em()\n",
    "spot_kc_em = ak.stock_kc_a_spot_em()"
   ]
  },
  {
   "cell_type": "code",
   "execution_count": 5,
   "id": "035abf3e",
   "metadata": {},
   "outputs": [
    {
     "name": "stdout",
     "output_type": "stream",
     "text": [
      "(5014, 23)\n",
      "(2180, 23)\n",
      "(2734, 23)\n",
      "(100, 23)\n",
      "(373, 24)\n",
      "(436, 23)\n",
      "(4826, 13)\n"
     ]
    }
   ],
   "source": [
    "print(spot_em.shape)\n",
    "print(spot_sh_em.shape )\n",
    "print(spot_sz_em.shape )\n",
    "print(spot_bj_em.shape )\n",
    "print(spot_bew_em.shape)\n",
    "print(spot_kc_em.shape )\n",
    "print(spot_sina.shape )"
   ]
  },
  {
   "cell_type": "code",
   "execution_count": 6,
   "id": "4b23b3ca",
   "metadata": {},
   "outputs": [
    {
     "name": "stdout",
     "output_type": "stream",
     "text": [
      "<class 'pandas.core.frame.DataFrame'>\n",
      "RangeIndex: 2734 entries, 0 to 2733\n",
      "Data columns (total 23 columns):\n",
      " #   Column   Non-Null Count  Dtype  \n",
      "---  ------   --------------  -----  \n",
      " 0   序号       2734 non-null   int64  \n",
      " 1   代码       2734 non-null   object \n",
      " 2   名称       2734 non-null   object \n",
      " 3   最新价      2629 non-null   float64\n",
      " 4   涨跌幅      2629 non-null   float64\n",
      " 5   涨跌额      2629 non-null   float64\n",
      " 6   成交量      2629 non-null   float64\n",
      " 7   成交额      2629 non-null   float64\n",
      " 8   振幅       2629 non-null   float64\n",
      " 9   最高       2629 non-null   float64\n",
      " 10  最低       2629 non-null   float64\n",
      " 11  今开       2629 non-null   float64\n",
      " 12  昨收       2731 non-null   float64\n",
      " 13  量比       2627 non-null   float64\n",
      " 14  换手率      2629 non-null   float64\n",
      " 15  市盈率-动态   2647 non-null   float64\n",
      " 16  市净率      2647 non-null   float64\n",
      " 17  总市值      2654 non-null   float64\n",
      " 18  流通市值     2650 non-null   float64\n",
      " 19  涨速       2629 non-null   float64\n",
      " 20  5分钟涨跌    2629 non-null   float64\n",
      " 21  60日涨跌幅   2731 non-null   float64\n",
      " 22  年初至今涨跌幅  2731 non-null   float64\n",
      "dtypes: float64(20), int64(1), object(2)\n",
      "memory usage: 491.4+ KB\n"
     ]
    }
   ],
   "source": [
    "spot_sz_em.info()"
   ]
  },
  {
   "cell_type": "code",
   "execution_count": 7,
   "id": "199ddc4b",
   "metadata": {},
   "outputs": [
    {
     "name": "stdout",
     "output_type": "stream",
     "text": [
      "<class 'pandas.core.frame.DataFrame'>\n",
      "RangeIndex: 2180 entries, 0 to 2179\n",
      "Data columns (total 23 columns):\n",
      " #   Column   Non-Null Count  Dtype  \n",
      "---  ------   --------------  -----  \n",
      " 0   序号       2180 non-null   int64  \n",
      " 1   代码       2180 non-null   object \n",
      " 2   名称       2180 non-null   object \n",
      " 3   最新价      2081 non-null   float64\n",
      " 4   涨跌幅      2081 non-null   float64\n",
      " 5   涨跌额      2081 non-null   float64\n",
      " 6   成交量      2081 non-null   float64\n",
      " 7   成交额      2081 non-null   float64\n",
      " 8   振幅       2081 non-null   float64\n",
      " 9   最高       2081 non-null   float64\n",
      " 10  最低       2081 non-null   float64\n",
      " 11  今开       2081 non-null   float64\n",
      " 12  昨收       2176 non-null   float64\n",
      " 13  量比       2080 non-null   float64\n",
      " 14  换手率      2081 non-null   float64\n",
      " 15  市盈率-动态   2092 non-null   float64\n",
      " 16  市净率      2092 non-null   float64\n",
      " 17  总市值      2099 non-null   float64\n",
      " 18  流通市值     2097 non-null   float64\n",
      " 19  涨速       2081 non-null   float64\n",
      " 20  5分钟涨跌    2081 non-null   float64\n",
      " 21  60日涨跌幅   2176 non-null   float64\n",
      " 22  年初至今涨跌幅  2176 non-null   float64\n",
      "dtypes: float64(20), int64(1), object(2)\n",
      "memory usage: 391.8+ KB\n"
     ]
    }
   ],
   "source": [
    "spot_sh_em.info()"
   ]
  },
  {
   "cell_type": "code",
   "execution_count": 18,
   "id": "efeb20db",
   "metadata": {},
   "outputs": [
    {
     "name": "stdout",
     "output_type": "stream",
     "text": [
      "<class 'pandas.core.frame.DataFrame'>\n",
      "RangeIndex: 100 entries, 0 to 99\n",
      "Data columns (total 23 columns):\n",
      " #   Column   Non-Null Count  Dtype  \n",
      "---  ------   --------------  -----  \n",
      " 0   序号       100 non-null    int64  \n",
      " 1   代码       100 non-null    object \n",
      " 2   名称       100 non-null    object \n",
      " 3   最新价      98 non-null     float64\n",
      " 4   涨跌幅      98 non-null     float64\n",
      " 5   涨跌额      98 non-null     float64\n",
      " 6   成交量      98 non-null     float64\n",
      " 7   成交额      98 non-null     float64\n",
      " 8   振幅       98 non-null     float64\n",
      " 9   最高       98 non-null     float64\n",
      " 10  最低       98 non-null     float64\n",
      " 11  今开       98 non-null     float64\n",
      " 12  昨收       100 non-null    float64\n",
      " 13  量比       98 non-null     float64\n",
      " 14  换手率      98 non-null     float64\n",
      " 15  市盈率-动态   100 non-null    float64\n",
      " 16  市净率      100 non-null    float64\n",
      " 17  总市值      100 non-null    int64  \n",
      " 18  流通市值     100 non-null    int64  \n",
      " 19  涨速       98 non-null     float64\n",
      " 20  5分钟涨跌    98 non-null     float64\n",
      " 21  60日涨跌幅   100 non-null    float64\n",
      " 22  年初至今涨跌幅  100 non-null    float64\n",
      "dtypes: float64(18), int64(3), object(2)\n",
      "memory usage: 18.1+ KB\n"
     ]
    }
   ],
   "source": [
    "spot_bj_em.info()"
   ]
  },
  {
   "cell_type": "code",
   "execution_count": 9,
   "id": "99b57cf2",
   "metadata": {},
   "outputs": [
    {
     "name": "stdout",
     "output_type": "stream",
     "text": [
      "<class 'pandas.core.frame.DataFrame'>\n",
      "RangeIndex: 4826 entries, 0 to 4825\n",
      "Data columns (total 13 columns):\n",
      " #   Column  Non-Null Count  Dtype  \n",
      "---  ------  --------------  -----  \n",
      " 0   代码      4826 non-null   object \n",
      " 1   名称      4826 non-null   object \n",
      " 2   最新价     4826 non-null   float64\n",
      " 3   涨跌额     4826 non-null   float64\n",
      " 4   涨跌幅     4826 non-null   float64\n",
      " 5   买入      4826 non-null   float64\n",
      " 6   卖出      4826 non-null   float64\n",
      " 7   昨收      4826 non-null   float64\n",
      " 8   今开      4826 non-null   float64\n",
      " 9   最高      4826 non-null   float64\n",
      " 10  最低      4826 non-null   float64\n",
      " 11  成交量     4826 non-null   float64\n",
      " 12  成交额     4826 non-null   float64\n",
      "dtypes: float64(11), object(2)\n",
      "memory usage: 490.3+ KB\n"
     ]
    }
   ],
   "source": [
    "spot_sina.info()"
   ]
  },
  {
   "cell_type": "code",
   "execution_count": 16,
   "id": "a34ad371",
   "metadata": {},
   "outputs": [
    {
     "ename": "KeyError",
     "evalue": "\"None of [Float64Index([ 7.44,  9.74,  64.6, 12.74,  87.6, 69.95,  13.8,  6.04, 20.85,\\n               3.79,  10.6,  7.99,  9.15,  8.39,  6.53,  4.27,  7.77,  7.99,\\n               3.98, 14.89,  15.7,  6.39,   8.2,  6.74, 15.79,   3.6,  5.57,\\n               3.72,  5.63,  3.93,  7.96,  6.42,  9.49, 10.02, 11.83,  3.18,\\n               9.82,  6.71,  3.57,  7.39,  7.94, 12.32,  4.68, 10.12,  5.59,\\n               5.61,  7.18,  8.66,  9.13, 10.18,  13.7,  6.34, 18.66, 43.16,\\n               11.0,   6.2,   nan,   nan, 13.75,  6.37,  5.91, 16.68, 13.27,\\n               9.06, 17.19,   7.8,  7.45,  5.42,  5.37,  5.36, 10.66,  5.06,\\n                5.0, 12.15, 18.75,  3.71,  7.23,  9.43,  9.25,  5.38,  5.22,\\n               9.22,  5.96,  3.95,  5.51, 16.29,  5.83,  9.89, 14.13,  7.54,\\n               5.02,   5.6,  6.34,  4.08,  11.7,  3.75, 10.56,  5.42,  5.99,\\n                8.7],\\n             dtype='float64')] are in the [columns]\"",
     "output_type": "error",
     "traceback": [
      "\u001b[1;31m---------------------------------------------------------------------------\u001b[0m",
      "\u001b[1;31mKeyError\u001b[0m                                  Traceback (most recent call last)",
      "Input \u001b[1;32mIn [16]\u001b[0m, in \u001b[0;36m<cell line: 1>\u001b[1;34m()\u001b[0m\n\u001b[1;32m----> 1\u001b[0m \u001b[43mspot_bj_em\u001b[49m\u001b[43m[\u001b[49m\u001b[43mspot_bj_em\u001b[49m\u001b[43m[\u001b[49m\u001b[38;5;124;43m\"\u001b[39;49m\u001b[38;5;124;43m最新价\u001b[39;49m\u001b[38;5;124;43m\"\u001b[39;49m\u001b[43m]\u001b[49m\u001b[43m]\u001b[49m\n",
      "File \u001b[1;32mD:\\anaconda3\\envs\\finance\\lib\\site-packages\\pandas\\core\\frame.py:3511\u001b[0m, in \u001b[0;36mDataFrame.__getitem__\u001b[1;34m(self, key)\u001b[0m\n\u001b[0;32m   3509\u001b[0m     \u001b[38;5;28;01mif\u001b[39;00m is_iterator(key):\n\u001b[0;32m   3510\u001b[0m         key \u001b[38;5;241m=\u001b[39m \u001b[38;5;28mlist\u001b[39m(key)\n\u001b[1;32m-> 3511\u001b[0m     indexer \u001b[38;5;241m=\u001b[39m \u001b[38;5;28;43mself\u001b[39;49m\u001b[38;5;241;43m.\u001b[39;49m\u001b[43mcolumns\u001b[49m\u001b[38;5;241;43m.\u001b[39;49m\u001b[43m_get_indexer_strict\u001b[49m\u001b[43m(\u001b[49m\u001b[43mkey\u001b[49m\u001b[43m,\u001b[49m\u001b[43m \u001b[49m\u001b[38;5;124;43m\"\u001b[39;49m\u001b[38;5;124;43mcolumns\u001b[39;49m\u001b[38;5;124;43m\"\u001b[39;49m\u001b[43m)\u001b[49m[\u001b[38;5;241m1\u001b[39m]\n\u001b[0;32m   3513\u001b[0m \u001b[38;5;66;03m# take() does not accept boolean indexers\u001b[39;00m\n\u001b[0;32m   3514\u001b[0m \u001b[38;5;28;01mif\u001b[39;00m \u001b[38;5;28mgetattr\u001b[39m(indexer, \u001b[38;5;124m\"\u001b[39m\u001b[38;5;124mdtype\u001b[39m\u001b[38;5;124m\"\u001b[39m, \u001b[38;5;28;01mNone\u001b[39;00m) \u001b[38;5;241m==\u001b[39m \u001b[38;5;28mbool\u001b[39m:\n",
      "File \u001b[1;32mD:\\anaconda3\\envs\\finance\\lib\\site-packages\\pandas\\core\\indexes\\base.py:5782\u001b[0m, in \u001b[0;36mIndex._get_indexer_strict\u001b[1;34m(self, key, axis_name)\u001b[0m\n\u001b[0;32m   5779\u001b[0m \u001b[38;5;28;01melse\u001b[39;00m:\n\u001b[0;32m   5780\u001b[0m     keyarr, indexer, new_indexer \u001b[38;5;241m=\u001b[39m \u001b[38;5;28mself\u001b[39m\u001b[38;5;241m.\u001b[39m_reindex_non_unique(keyarr)\n\u001b[1;32m-> 5782\u001b[0m \u001b[38;5;28;43mself\u001b[39;49m\u001b[38;5;241;43m.\u001b[39;49m\u001b[43m_raise_if_missing\u001b[49m\u001b[43m(\u001b[49m\u001b[43mkeyarr\u001b[49m\u001b[43m,\u001b[49m\u001b[43m \u001b[49m\u001b[43mindexer\u001b[49m\u001b[43m,\u001b[49m\u001b[43m \u001b[49m\u001b[43maxis_name\u001b[49m\u001b[43m)\u001b[49m\n\u001b[0;32m   5784\u001b[0m keyarr \u001b[38;5;241m=\u001b[39m \u001b[38;5;28mself\u001b[39m\u001b[38;5;241m.\u001b[39mtake(indexer)\n\u001b[0;32m   5785\u001b[0m \u001b[38;5;28;01mif\u001b[39;00m \u001b[38;5;28misinstance\u001b[39m(key, Index):\n\u001b[0;32m   5786\u001b[0m     \u001b[38;5;66;03m# GH 42790 - Preserve name from an Index\u001b[39;00m\n",
      "File \u001b[1;32mD:\\anaconda3\\envs\\finance\\lib\\site-packages\\pandas\\core\\indexes\\base.py:5842\u001b[0m, in \u001b[0;36mIndex._raise_if_missing\u001b[1;34m(self, key, indexer, axis_name)\u001b[0m\n\u001b[0;32m   5840\u001b[0m     \u001b[38;5;28;01mif\u001b[39;00m use_interval_msg:\n\u001b[0;32m   5841\u001b[0m         key \u001b[38;5;241m=\u001b[39m \u001b[38;5;28mlist\u001b[39m(key)\n\u001b[1;32m-> 5842\u001b[0m     \u001b[38;5;28;01mraise\u001b[39;00m \u001b[38;5;167;01mKeyError\u001b[39;00m(\u001b[38;5;124mf\u001b[39m\u001b[38;5;124m\"\u001b[39m\u001b[38;5;124mNone of [\u001b[39m\u001b[38;5;132;01m{\u001b[39;00mkey\u001b[38;5;132;01m}\u001b[39;00m\u001b[38;5;124m] are in the [\u001b[39m\u001b[38;5;132;01m{\u001b[39;00maxis_name\u001b[38;5;132;01m}\u001b[39;00m\u001b[38;5;124m]\u001b[39m\u001b[38;5;124m\"\u001b[39m)\n\u001b[0;32m   5844\u001b[0m not_found \u001b[38;5;241m=\u001b[39m \u001b[38;5;28mlist\u001b[39m(ensure_index(key)[missing_mask\u001b[38;5;241m.\u001b[39mnonzero()[\u001b[38;5;241m0\u001b[39m]]\u001b[38;5;241m.\u001b[39munique())\n\u001b[0;32m   5845\u001b[0m \u001b[38;5;28;01mraise\u001b[39;00m \u001b[38;5;167;01mKeyError\u001b[39;00m(\u001b[38;5;124mf\u001b[39m\u001b[38;5;124m\"\u001b[39m\u001b[38;5;132;01m{\u001b[39;00mnot_found\u001b[38;5;132;01m}\u001b[39;00m\u001b[38;5;124m not in index\u001b[39m\u001b[38;5;124m\"\u001b[39m)\n",
      "\u001b[1;31mKeyError\u001b[0m: \"None of [Float64Index([ 7.44,  9.74,  64.6, 12.74,  87.6, 69.95,  13.8,  6.04, 20.85,\\n               3.79,  10.6,  7.99,  9.15,  8.39,  6.53,  4.27,  7.77,  7.99,\\n               3.98, 14.89,  15.7,  6.39,   8.2,  6.74, 15.79,   3.6,  5.57,\\n               3.72,  5.63,  3.93,  7.96,  6.42,  9.49, 10.02, 11.83,  3.18,\\n               9.82,  6.71,  3.57,  7.39,  7.94, 12.32,  4.68, 10.12,  5.59,\\n               5.61,  7.18,  8.66,  9.13, 10.18,  13.7,  6.34, 18.66, 43.16,\\n               11.0,   6.2,   nan,   nan, 13.75,  6.37,  5.91, 16.68, 13.27,\\n               9.06, 17.19,   7.8,  7.45,  5.42,  5.37,  5.36, 10.66,  5.06,\\n                5.0, 12.15, 18.75,  3.71,  7.23,  9.43,  9.25,  5.38,  5.22,\\n               9.22,  5.96,  3.95,  5.51, 16.29,  5.83,  9.89, 14.13,  7.54,\\n               5.02,   5.6,  6.34,  4.08,  11.7,  3.75, 10.56,  5.42,  5.99,\\n                8.7],\\n             dtype='float64')] are in the [columns]\""
     ]
    }
   ],
   "source": [
    "spot_bj_em[spot_bj_em[\"最新价\"] == 0]"
   ]
  },
  {
   "cell_type": "code",
   "execution_count": 25,
   "id": "f7e7ce07",
   "metadata": {},
   "outputs": [
    {
     "data": {
      "text/html": [
       "<div>\n",
       "<style scoped>\n",
       "    .dataframe tbody tr th:only-of-type {\n",
       "        vertical-align: middle;\n",
       "    }\n",
       "\n",
       "    .dataframe tbody tr th {\n",
       "        vertical-align: top;\n",
       "    }\n",
       "\n",
       "    .dataframe thead th {\n",
       "        text-align: right;\n",
       "    }\n",
       "</style>\n",
       "<table border=\"1\" class=\"dataframe\">\n",
       "  <thead>\n",
       "    <tr style=\"text-align: right;\">\n",
       "      <th></th>\n",
       "      <th>序号</th>\n",
       "      <th>代码</th>\n",
       "      <th>名称</th>\n",
       "      <th>最新价</th>\n",
       "      <th>涨跌幅</th>\n",
       "      <th>涨跌额</th>\n",
       "      <th>成交量</th>\n",
       "      <th>成交额</th>\n",
       "      <th>振幅</th>\n",
       "      <th>最高</th>\n",
       "      <th>...</th>\n",
       "      <th>量比</th>\n",
       "      <th>换手率</th>\n",
       "      <th>市盈率-动态</th>\n",
       "      <th>市净率</th>\n",
       "      <th>总市值</th>\n",
       "      <th>流通市值</th>\n",
       "      <th>涨速</th>\n",
       "      <th>5分钟涨跌</th>\n",
       "      <th>60日涨跌幅</th>\n",
       "      <th>年初至今涨跌幅</th>\n",
       "    </tr>\n",
       "  </thead>\n",
       "  <tbody>\n",
       "  </tbody>\n",
       "</table>\n",
       "<p>0 rows × 23 columns</p>\n",
       "</div>"
      ],
      "text/plain": [
       "Empty DataFrame\n",
       "Columns: [序号, 代码, 名称, 最新价, 涨跌幅, 涨跌额, 成交量, 成交额, 振幅, 最高, 最低, 今开, 昨收, 量比, 换手率, 市盈率-动态, 市净率, 总市值, 流通市值, 涨速, 5分钟涨跌, 60日涨跌幅, 年初至今涨跌幅]\n",
       "Index: []\n",
       "\n",
       "[0 rows x 23 columns]"
      ]
     },
     "execution_count": 25,
     "metadata": {},
     "output_type": "execute_result"
    }
   ],
   "source": [
    "spot_bj_em[spot_bj_em[\"最新价\"]== None]"
   ]
  },
  {
   "cell_type": "code",
   "execution_count": 29,
   "id": "19eac815",
   "metadata": {},
   "outputs": [
    {
     "data": {
      "text/html": [
       "<div>\n",
       "<style scoped>\n",
       "    .dataframe tbody tr th:only-of-type {\n",
       "        vertical-align: middle;\n",
       "    }\n",
       "\n",
       "    .dataframe tbody tr th {\n",
       "        vertical-align: top;\n",
       "    }\n",
       "\n",
       "    .dataframe thead th {\n",
       "        text-align: right;\n",
       "    }\n",
       "</style>\n",
       "<table border=\"1\" class=\"dataframe\">\n",
       "  <thead>\n",
       "    <tr style=\"text-align: right;\">\n",
       "      <th></th>\n",
       "      <th>序号</th>\n",
       "      <th>代码</th>\n",
       "      <th>名称</th>\n",
       "      <th>最新价</th>\n",
       "      <th>涨跌幅</th>\n",
       "      <th>涨跌额</th>\n",
       "      <th>成交量</th>\n",
       "      <th>成交额</th>\n",
       "      <th>振幅</th>\n",
       "      <th>最高</th>\n",
       "      <th>...</th>\n",
       "      <th>量比</th>\n",
       "      <th>换手率</th>\n",
       "      <th>市盈率-动态</th>\n",
       "      <th>市净率</th>\n",
       "      <th>总市值</th>\n",
       "      <th>流通市值</th>\n",
       "      <th>涨速</th>\n",
       "      <th>5分钟涨跌</th>\n",
       "      <th>60日涨跌幅</th>\n",
       "      <th>年初至今涨跌幅</th>\n",
       "    </tr>\n",
       "  </thead>\n",
       "  <tbody>\n",
       "    <tr>\n",
       "      <th>56</th>\n",
       "      <td>57</td>\n",
       "      <td>833994</td>\n",
       "      <td>翰博高新</td>\n",
       "      <td>NaN</td>\n",
       "      <td>NaN</td>\n",
       "      <td>NaN</td>\n",
       "      <td>NaN</td>\n",
       "      <td>NaN</td>\n",
       "      <td>NaN</td>\n",
       "      <td>NaN</td>\n",
       "      <td>...</td>\n",
       "      <td>NaN</td>\n",
       "      <td>NaN</td>\n",
       "      <td>39.26</td>\n",
       "      <td>2.95</td>\n",
       "      <td>4089141000</td>\n",
       "      <td>2306779124</td>\n",
       "      <td>NaN</td>\n",
       "      <td>NaN</td>\n",
       "      <td>0.0</td>\n",
       "      <td>0.0</td>\n",
       "    </tr>\n",
       "    <tr>\n",
       "      <th>57</th>\n",
       "      <td>58</td>\n",
       "      <td>833874</td>\n",
       "      <td>泰祥股份</td>\n",
       "      <td>NaN</td>\n",
       "      <td>NaN</td>\n",
       "      <td>NaN</td>\n",
       "      <td>NaN</td>\n",
       "      <td>NaN</td>\n",
       "      <td>NaN</td>\n",
       "      <td>NaN</td>\n",
       "      <td>...</td>\n",
       "      <td>NaN</td>\n",
       "      <td>NaN</td>\n",
       "      <td>36.36</td>\n",
       "      <td>3.69</td>\n",
       "      <td>1961037000</td>\n",
       "      <td>490259250</td>\n",
       "      <td>NaN</td>\n",
       "      <td>NaN</td>\n",
       "      <td>0.0</td>\n",
       "      <td>0.0</td>\n",
       "    </tr>\n",
       "  </tbody>\n",
       "</table>\n",
       "<p>2 rows × 23 columns</p>\n",
       "</div>"
      ],
      "text/plain": [
       "    序号      代码    名称  最新价  涨跌幅  涨跌额  成交量  成交额  振幅  最高  ...  量比  换手率  市盈率-动态  \\\n",
       "56  57  833994  翰博高新  NaN  NaN  NaN  NaN  NaN NaN NaN  ... NaN  NaN   39.26   \n",
       "57  58  833874  泰祥股份  NaN  NaN  NaN  NaN  NaN NaN NaN  ... NaN  NaN   36.36   \n",
       "\n",
       "     市净率         总市值        流通市值  涨速  5分钟涨跌  60日涨跌幅  年初至今涨跌幅  \n",
       "56  2.95  4089141000  2306779124 NaN    NaN     0.0      0.0  \n",
       "57  3.69  1961037000   490259250 NaN    NaN     0.0      0.0  \n",
       "\n",
       "[2 rows x 23 columns]"
      ]
     },
     "execution_count": 29,
     "metadata": {},
     "output_type": "execute_result"
    }
   ],
   "source": [
    "spot_bj_em[spot_bj_em[\"最新价\"].isnull()]"
   ]
  },
  {
   "cell_type": "code",
   "execution_count": null,
   "id": "93d7a072",
   "metadata": {},
   "outputs": [],
   "source": []
  }
 ],
 "metadata": {
  "kernelspec": {
   "display_name": "finance",
   "language": "python",
   "name": "finance"
  },
  "language_info": {
   "codemirror_mode": {
    "name": "ipython",
    "version": 3
   },
   "file_extension": ".py",
   "mimetype": "text/x-python",
   "name": "python",
   "nbconvert_exporter": "python",
   "pygments_lexer": "ipython3",
   "version": "3.8.5"
  }
 },
 "nbformat": 4,
 "nbformat_minor": 5
}
