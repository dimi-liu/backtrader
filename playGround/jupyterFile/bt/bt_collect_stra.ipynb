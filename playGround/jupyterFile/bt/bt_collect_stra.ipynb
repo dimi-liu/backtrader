{
 "cells": [
  {
   "cell_type": "code",
   "execution_count": 48,
   "metadata": {},
   "outputs": [
    {
     "name": "stdout",
     "output_type": "stream",
     "text": [
      "当前路径为 D:\\github\\backtrader\\playGround\\jupyterFile\\bt\n",
      "数据路径为 D:\\gitee\\finance\\db\n"
     ]
    },
    {
     "data": {
      "text/plain": [
       "WindowsPath('D:/gitee/finance/db/em_stock_2022_1.db')"
      ]
     },
     "execution_count": 48,
     "metadata": {},
     "output_type": "execute_result"
    }
   ],
   "source": [
    "import sys,os\n",
    "from datetime import datetime\n",
    "from pathlib import Path\n",
    "import sqlite3\n",
    "import pandas as pd\n",
    "import numpy as np\n",
    "import backtrader as bt # 导入 Backtrader\n",
    "import akshare as ak\n",
    "# import backtrader.indicators as btind # 导入策略分析模块\n",
    "# import backtrader.feeds as btfeeds # 导入数据模块\n",
    "\n",
    "# 快速连接数据库\n",
    "class fast_db_conn:\n",
    "    def __init__(self,db_path):\n",
    "        self._db = db_path\n",
    "    def __enter__(self):\n",
    "        self._conn = sqlite3.connect(self._db)\n",
    "        print(\"打开连接 {}\".format(self._db))\n",
    "        return self._conn\n",
    "    def __exit__(self, exc_type, exc_val, exc_tb):\n",
    "        self._conn.commit()\n",
    "        self._conn.close()\n",
    "        print(\"关闭连接 {}\".format(self._db))\n",
    "\n",
    "# 声明路径\n",
    "cur_path = Path(r'.')\n",
    "print(\"当前路径为 {}\".format(cur_path.resolve()))\n",
    "gitee_path = cur_path / Path(r'./../../..')    # D:/gitee\n",
    "db_file_path = gitee_path / Path(r'./finance/db')     # D:/gitee/db\n",
    "db_file_path = Path(r'D:\\gitee\\finance\\db')  # backtrader项目下先写死\n",
    "print(\"数据路径为 {}\".format(db_file_path.resolve()))\n",
    "\n",
    "# sql 语句\n",
    "sql = {}\n",
    "sql['simple-data'] = \"\"\"\n",
    "    select date,code,name,open,high,low,close from stock_all_221102 where date < '{end_date}' and date >= '{start_date}'\n",
    "\"\"\".strip()\n",
    "\n",
    "sql['data_spot'] = \"\"\"\n",
    "    select * from stock_spot \n",
    "\"\"\".strip()\n",
    "\n",
    "sql['data_hfq'] = \"\"\"\n",
    "    select * from stock_hfq\n",
    "\"\"\".strip()\n",
    "\n",
    "# 取22年数据\n",
    "dbname = [\n",
    "    'em_stock_2022_1.db',\n",
    "    'em_stock_2022_2.db',\n",
    "    'em_stock_2022_3.db',\n",
    "    'em_stock_2022_4.db',\n",
    "]\n",
    "\n",
    "dbpath = db_file_path / Path(dbname[0])\n",
    "dbpath.resolve()"
   ]
  },
  {
   "cell_type": "code",
   "execution_count": 49,
   "metadata": {},
   "outputs": [
    {
     "name": "stdout",
     "output_type": "stream",
     "text": [
      "打开连接 D:\\gitee\\finance\\db\\em_stock_2022_1.db\n",
      "2023-01-24 22:14:51.744219  (274032, 13)\n",
      "关闭连接 D:\\gitee\\finance\\db\\em_stock_2022_1.db\n",
      "打开连接 D:\\gitee\\finance\\db\\em_stock_2022_2.db\n",
      "2023-01-24 22:14:53.169617  (282131, 13)\n",
      "关闭连接 D:\\gitee\\finance\\db\\em_stock_2022_2.db\n",
      "打开连接 D:\\gitee\\finance\\db\\em_stock_2022_3.db\n",
      "2023-01-24 22:14:54.545375  (316312, 13)\n",
      "关闭连接 D:\\gitee\\finance\\db\\em_stock_2022_3.db\n",
      "打开连接 D:\\gitee\\finance\\db\\em_stock_2022_4.db\n",
      "2023-01-24 22:14:55.857194  (299536, 13)\n",
      "关闭连接 D:\\gitee\\finance\\db\\em_stock_2022_4.db\n"
     ]
    },
    {
     "data": {
      "text/html": [
       "<div>\n",
       "<style scoped>\n",
       "    .dataframe tbody tr th:only-of-type {\n",
       "        vertical-align: middle;\n",
       "    }\n",
       "\n",
       "    .dataframe tbody tr th {\n",
       "        vertical-align: top;\n",
       "    }\n",
       "\n",
       "    .dataframe thead th {\n",
       "        text-align: right;\n",
       "    }\n",
       "</style>\n",
       "<table border=\"1\" class=\"dataframe\">\n",
       "  <thead>\n",
       "    <tr style=\"text-align: right;\">\n",
       "      <th></th>\n",
       "      <th>d</th>\n",
       "      <th>open</th>\n",
       "      <th>close</th>\n",
       "      <th>high</th>\n",
       "      <th>low</th>\n",
       "      <th>volume</th>\n",
       "      <th>price_volume</th>\n",
       "      <th>amplitude</th>\n",
       "      <th>p_change</th>\n",
       "      <th>price_change</th>\n",
       "      <th>turnover</th>\n",
       "      <th>code</th>\n",
       "      <th>record_date</th>\n",
       "    </tr>\n",
       "  </thead>\n",
       "  <tbody>\n",
       "    <tr>\n",
       "      <th>0</th>\n",
       "      <td>2022-01-04</td>\n",
       "      <td>45.43</td>\n",
       "      <td>45.70</td>\n",
       "      <td>46.58</td>\n",
       "      <td>45.19</td>\n",
       "      <td>206882</td>\n",
       "      <td>397126992.0</td>\n",
       "      <td>3.08</td>\n",
       "      <td>1.20</td>\n",
       "      <td>0.54</td>\n",
       "      <td>4.86</td>\n",
       "      <td>002222</td>\n",
       "      <td>2022-11-19</td>\n",
       "    </tr>\n",
       "    <tr>\n",
       "      <th>1</th>\n",
       "      <td>2022-01-05</td>\n",
       "      <td>45.23</td>\n",
       "      <td>43.68</td>\n",
       "      <td>45.55</td>\n",
       "      <td>42.73</td>\n",
       "      <td>276311</td>\n",
       "      <td>506863760.0</td>\n",
       "      <td>6.17</td>\n",
       "      <td>-4.42</td>\n",
       "      <td>-2.02</td>\n",
       "      <td>6.49</td>\n",
       "      <td>002222</td>\n",
       "      <td>2022-11-19</td>\n",
       "    </tr>\n",
       "    <tr>\n",
       "      <th>2</th>\n",
       "      <td>2022-01-06</td>\n",
       "      <td>43.50</td>\n",
       "      <td>43.54</td>\n",
       "      <td>43.84</td>\n",
       "      <td>42.62</td>\n",
       "      <td>128472</td>\n",
       "      <td>232326894.0</td>\n",
       "      <td>2.79</td>\n",
       "      <td>-0.32</td>\n",
       "      <td>-0.14</td>\n",
       "      <td>3.02</td>\n",
       "      <td>002222</td>\n",
       "      <td>2022-11-19</td>\n",
       "    </tr>\n",
       "    <tr>\n",
       "      <th>3</th>\n",
       "      <td>2022-01-07</td>\n",
       "      <td>43.72</td>\n",
       "      <td>42.51</td>\n",
       "      <td>44.24</td>\n",
       "      <td>42.40</td>\n",
       "      <td>151622</td>\n",
       "      <td>272725584.0</td>\n",
       "      <td>4.23</td>\n",
       "      <td>-2.37</td>\n",
       "      <td>-1.03</td>\n",
       "      <td>3.56</td>\n",
       "      <td>002222</td>\n",
       "      <td>2022-11-19</td>\n",
       "    </tr>\n",
       "    <tr>\n",
       "      <th>4</th>\n",
       "      <td>2022-01-10</td>\n",
       "      <td>42.62</td>\n",
       "      <td>43.36</td>\n",
       "      <td>44.53</td>\n",
       "      <td>42.13</td>\n",
       "      <td>175901</td>\n",
       "      <td>319923328.0</td>\n",
       "      <td>5.65</td>\n",
       "      <td>2.00</td>\n",
       "      <td>0.85</td>\n",
       "      <td>4.13</td>\n",
       "      <td>002222</td>\n",
       "      <td>2022-11-19</td>\n",
       "    </tr>\n",
       "  </tbody>\n",
       "</table>\n",
       "</div>"
      ],
      "text/plain": [
       "           d   open  close   high    low  volume  price_volume  amplitude  \\\n",
       "0 2022-01-04  45.43  45.70  46.58  45.19  206882   397126992.0       3.08   \n",
       "1 2022-01-05  45.23  43.68  45.55  42.73  276311   506863760.0       6.17   \n",
       "2 2022-01-06  43.50  43.54  43.84  42.62  128472   232326894.0       2.79   \n",
       "3 2022-01-07  43.72  42.51  44.24  42.40  151622   272725584.0       4.23   \n",
       "4 2022-01-10  42.62  43.36  44.53  42.13  175901   319923328.0       5.65   \n",
       "\n",
       "   p_change  price_change  turnover    code record_date  \n",
       "0      1.20          0.54      4.86  002222  2022-11-19  \n",
       "1     -4.42         -2.02      6.49  002222  2022-11-19  \n",
       "2     -0.32         -0.14      3.02  002222  2022-11-19  \n",
       "3     -2.37         -1.03      3.56  002222  2022-11-19  \n",
       "4      2.00          0.85      4.13  002222  2022-11-19  "
      ]
     },
     "execution_count": 49,
     "metadata": {},
     "output_type": "execute_result"
    }
   ],
   "source": [
    "stock_hfq = []\n",
    "# 读取数据\n",
    "for i,db in enumerate(dbname):\n",
    "    with fast_db_conn((db_file_path / Path(db)).resolve()) as c:\n",
    "        data = pd.read_sql(sql=sql['data_hfq'], con = c, parse_dates=['d'])\n",
    "        print('{}  {}'.format(datetime.now(),data.shape))\n",
    "        stock_hfq.append(data)\n",
    "\n",
    "data = pd.concat(stock_hfq, ignore_index=True)\n",
    "data.head()"
   ]
  },
  {
   "cell_type": "code",
   "execution_count": 50,
   "metadata": {},
   "outputs": [],
   "source": [
    "# 读取沪深300\n",
    "# in_300 = ak.index_stock_cons_csindex(symbol=\"000300\")[\"成分券代码\"].unique()\n",
    "in_300 = ['600031', '300763', '600989', '300782', '601698', '601236','002064', '000876', '601088', '601628', '601988', '003816','688036', '688363', '688111', '601658', '601816', '688169','688396', '688005', '000786', '000723', '600745', '002008','002007', '002049', '601898', '601919', '300122', '600918', '688599', '688981', '688561', '300896', '300999', '300919', '300124', '600183', '600009', '300979', '688303', '688187', '601868', '600941', '601998', '601600', '600196', '600426', '601899', '002493', '601166', '600999', '300014', '600150', '600010', '600690', '600845', '002352', '601857', '601939', '002129', '601390', '600837', '600132', '600115', '600104', '002202', '300059', '002311', '000938', '600406', '600061', '600309', '600460', '600436', '600029', '601336', '300207', '002555', '002594', '002602', '601901', '600036', '000776', '600089', '600884', '600085', '002601', '000596', '300316', '601633', '601669', '000408', '000001', '000002', '000651', '000661', '000733', '000858', '002050', '600048', '002236', '601111', '000301', '000538', '000568', '601012', '601238', '601800', '603993', '000333', '603806', '300347', '603899', '603799', '601689', '600958', '002756', '601985', '300529', '603986', '601229', '300595', '002841', '601881', '300601', '300628', '603659', '002916', '601838', '601360', '603259', '300454', '601066', '300760', '300751', '600926', '603185', '601615', '300759', '601865', '300769', '688008', '688012', '002271', '002475', '601766', '601668', '002304', '601688', '000100', '600438', '603290', '603195', '601808', '601288', '002001', '601117', '688126', '603392', '688065', '601995', '300957', '600018', '600763', '600383', '600588', '600019', '600016', '600011', '600674', '002459', '002460', '605117', '605499', '600905', '601728', '001289', '000338', '600276', '600000', '002466', '601888', '002410', '002180', '002230', '601601', '002414', '002179', '601788', '002142', '601009', '002074', '600606', '600660', '601877', '300015', '600188', '600039', '600900', '600332', '600176', '600600', '600028', '600346', '600886', '002252', '601989', '300033', '601186', '601318', '600741', '601006', '002120', '601618', '600219', '000977', '601818', '002415', '601377', '000800', '002371', '002241', '601328', '601169', '000877', '000895', '600547', '600015', '600760', '600795', '600111', '600809', '600030', '600803', '600362', '600233', '600584', '601799', '000963', '600570', '000425', '600585', '000768', '000792', '600519', '600887', '600893', '600050', '300223', '002600', '601216', '601100', '300274', '000708', '002027', '002032', '601398', '300142', '000063', '000069', '000157', '000625', '000725', '002648', '002709', '002714', '601225', '603288', '603369', '603019', '300408', '002736', '300413', '601021', '000166', '300433', '300450', '601211', '300498', '601155', '300496', '001979', '601966', '600919', '002812', '002821', '603833', '603501', '300661', '601878', '603882', '603260', '600025', '002920', '603486', '601138', '300750', '002938', '601319']"
   ]
  },
  {
   "cell_type": "code",
   "execution_count": 51,
   "metadata": {},
   "outputs": [
    {
     "name": "stdout",
     "output_type": "stream",
     "text": [
      "(72540, 8)\n"
     ]
    },
    {
     "data": {
      "text/html": [
       "<div>\n",
       "<style scoped>\n",
       "    .dataframe tbody tr th:only-of-type {\n",
       "        vertical-align: middle;\n",
       "    }\n",
       "\n",
       "    .dataframe tbody tr th {\n",
       "        vertical-align: top;\n",
       "    }\n",
       "\n",
       "    .dataframe thead th {\n",
       "        text-align: right;\n",
       "    }\n",
       "</style>\n",
       "<table border=\"1\" class=\"dataframe\">\n",
       "  <thead>\n",
       "    <tr style=\"text-align: right;\">\n",
       "      <th></th>\n",
       "      <th>code</th>\n",
       "      <th>datetime</th>\n",
       "      <th>open</th>\n",
       "      <th>high</th>\n",
       "      <th>low</th>\n",
       "      <th>close</th>\n",
       "      <th>volume</th>\n",
       "      <th>openinterest</th>\n",
       "    </tr>\n",
       "  </thead>\n",
       "  <tbody>\n",
       "    <tr>\n",
       "      <th>638</th>\n",
       "      <td>000725</td>\n",
       "      <td>2022-01-04</td>\n",
       "      <td>17.37</td>\n",
       "      <td>17.47</td>\n",
       "      <td>17.24</td>\n",
       "      <td>17.47</td>\n",
       "      <td>5029016</td>\n",
       "      <td>0</td>\n",
       "    </tr>\n",
       "    <tr>\n",
       "      <th>639</th>\n",
       "      <td>000725</td>\n",
       "      <td>2022-01-05</td>\n",
       "      <td>17.47</td>\n",
       "      <td>17.69</td>\n",
       "      <td>17.37</td>\n",
       "      <td>17.60</td>\n",
       "      <td>5515826</td>\n",
       "      <td>0</td>\n",
       "    </tr>\n",
       "    <tr>\n",
       "      <th>640</th>\n",
       "      <td>000725</td>\n",
       "      <td>2022-01-06</td>\n",
       "      <td>17.53</td>\n",
       "      <td>17.53</td>\n",
       "      <td>17.34</td>\n",
       "      <td>17.40</td>\n",
       "      <td>3731059</td>\n",
       "      <td>0</td>\n",
       "    </tr>\n",
       "    <tr>\n",
       "      <th>641</th>\n",
       "      <td>000725</td>\n",
       "      <td>2022-01-07</td>\n",
       "      <td>17.50</td>\n",
       "      <td>17.79</td>\n",
       "      <td>17.47</td>\n",
       "      <td>17.69</td>\n",
       "      <td>6154201</td>\n",
       "      <td>0</td>\n",
       "    </tr>\n",
       "    <tr>\n",
       "      <th>642</th>\n",
       "      <td>000725</td>\n",
       "      <td>2022-01-10</td>\n",
       "      <td>17.76</td>\n",
       "      <td>17.92</td>\n",
       "      <td>17.66</td>\n",
       "      <td>17.79</td>\n",
       "      <td>5160839</td>\n",
       "      <td>0</td>\n",
       "    </tr>\n",
       "  </tbody>\n",
       "</table>\n",
       "</div>"
      ],
      "text/plain": [
       "       code   datetime   open   high    low  close   volume  openinterest\n",
       "638  000725 2022-01-04  17.37  17.47  17.24  17.47  5029016             0\n",
       "639  000725 2022-01-05  17.47  17.69  17.37  17.60  5515826             0\n",
       "640  000725 2022-01-06  17.53  17.53  17.34  17.40  3731059             0\n",
       "641  000725 2022-01-07  17.50  17.79  17.47  17.69  6154201             0\n",
       "642  000725 2022-01-10  17.76  17.92  17.66  17.79  5160839             0"
      ]
     },
     "execution_count": 51,
     "metadata": {},
     "output_type": "execute_result"
    }
   ],
   "source": [
    "df = data.loc[:,['code','d','open','high','low','close','volume']]\n",
    "df = df[df.code.isin(in_300)]\n",
    "col_map={\"d\":\"datetime\"}\n",
    "df = df.rename(columns=col_map)\n",
    "df['openinterest'] = 0\n",
    "\n",
    "code = df.loc[:,'code'].unique()\n",
    "st_date = df.datetime.min()\n",
    "ed_date = df.datetime.max()\n",
    "print(df.shape)\n",
    "df.head()"
   ]
  },
  {
   "cell_type": "code",
   "execution_count": 68,
   "metadata": {},
   "outputs": [],
   "source": [
    "# 设置交易费用\n",
    "class MyStockCommissionScheme(bt.CommInfoBase):\n",
    "    '''\n",
    "    1.佣金按照百分比。\n",
    "    2.每一笔交易有一个最低值，比如5块，当然有些券商可能会免5.\n",
    "    3.卖出股票还需要收印花税。 成交金额*0.1% 仅卖出\n",
    "    4.可能有的平台还需要收平台费。\n",
    "\n",
    "    5.沪市过户费 成交金额*0.001% 买卖双向\n",
    "    6.股息税\n",
    "    '''\n",
    "params = (\n",
    "    ('stampduty', 0.001),  # 印花税率\n",
    "    ('commission', 0.00025),  # 佣金率\n",
    "    ('stocklike', True),#股票类资产，不考虑保证金\n",
    "    ('commtype', bt.CommInfoBase.COMM_PERC),#按百分比\n",
    "    ('minCommission', 5),#最小佣金\n",
    "    # ('maxCommissionPct', 0.003),#最大佣金比例\n",
    "\n",
    "    ('platFee', 0),#平台费用\n",
    ")\n",
    "\n",
    "def _getcommission(self, size, price, pseudoexec):\n",
    "    '''\n",
    "    size>0，买入操作。\n",
    "    size<0，卖出操作。\n",
    "    '''\n",
    "    if size > 0:  # 买入，不考虑印花税，需要考虑最低收费\n",
    "        return max(size * price * self.p.commission, self.p.minCommission) + self.p.platFee\n",
    "    elif size < 0:  # 卖出，考虑印花税。\n",
    "        return max(abs(size) * price * self.p.commission,self.p.minCommission)+abs(size) * price * self.p.stampduty + self.p.platFee\n",
    "    else:\n",
    "        return 0  # 防止特殊情况下size为0."
   ]
  },
  {
   "cell_type": "code",
   "execution_count": 69,
   "metadata": {},
   "outputs": [],
   "source": [
    "class myStrategy(bt.Strategy):\n",
    "    # list of parameters which are configurable for the strategy\n",
    "    params = dict( # params可以简写为p \n",
    "        pfast=5,  # period for the fast moving average\n",
    "        pslow=10,   # period for the slow moving average\n",
    "        printlog=True,\n",
    "    )  \n",
    "    def log(self, arg):\n",
    "        print('{} {}'.format(self.datetime.date(), arg))\n",
    "    \n",
    "    def log(self, txt, dt=None, do_print=False):\n",
    "        \"\"\"\n",
    "        Logging function fot this strategy\n",
    "        \"\"\"\n",
    "        if self.params.printlog or do_print:\n",
    "            dt = dt or self.datetime.date()\n",
    "            print('%s, %s' % (dt.isoformat(), txt))\n",
    "            \n",
    "    def notify_order(self, order):\n",
    "        \"\"\"\n",
    "        记录交易执行情况\n",
    "        \"\"\"\n",
    "        # 如果 order 为 submitted/accepted,返回空\n",
    "        if order.status in [order.Submitted, order.Accepted]:\n",
    "            return\n",
    "        # 如果order为buy/sell executed,报告价格结果\n",
    "        if order.status in [order.Completed]:\n",
    "            if order.isbuy():\n",
    "                self.log(\n",
    "                    f\"买入 {order.data._name} {order.executed.size}手:\\n价格：{order.executed.price},\\\n",
    "                成本:{order.executed.value},\\\n",
    "                手续费:{order.executed.comm}\"\n",
    "                )\n",
    "                self.buyprice = order.executed.price\n",
    "                self.buycomm = order.executed.comm\n",
    "            else:\n",
    "                self.log(\n",
    "                    f\"卖出 {order.data._name} {order.executed.size}手:\\n价格：{order.executed.price},\\\n",
    "                成本: {order.executed.value},\\\n",
    "                手续费{order.executed.comm}\"\n",
    "                )\n",
    "            self.bar_executed = len(self)\n",
    "\n",
    "            # 如果指令取消/交易失败, 报告结果\n",
    "        elif order.status in [order.Canceled, order.Margin, order.Rejected]:\n",
    "            self.log(\"交易失败\")\n",
    "        self.order = None\n",
    "\n",
    "    def notify_trade(self, trade):\n",
    "        \"\"\"\n",
    "        记录交易收益情况\n",
    "        \"\"\"\n",
    "        if not trade.isclosed:\n",
    "            return\n",
    "        self.log(f\"策略收益：\\n毛收益 {trade.pnl:.2f}, 净收益 {trade.pnlcomm:.2f}\")\n",
    "\n",
    "    def stop(self):\n",
    "        \"\"\"\n",
    "        回测结束后输出结果\n",
    "        \"\"\"\n",
    "        # self.log(\"(MA均线： %2d日) 期末总资金 %.2f\" % (self.params.maperiod, self.broker.getvalue()), do_print=True)\n",
    "\n",
    "\n",
    "    def __init__(self):\n",
    "        sma_5 = bt.ind.SMA(period=self.p.pfast)  # fast moving average\n",
    "        sma_15 = bt.ind.SMA(period=self.p.pslow)  # slow moving average\n",
    "        self.crossover = bt.ind.CrossOver(sma_5, sma_15)  # crossover signal\n",
    "\n",
    "    def next(self):\n",
    "        if not self.position:  # not in the market\n",
    "            if self.crossover > 0:  # if fast crosses slow to the upside\n",
    "                self.buy()  # enter long\n",
    "\n",
    "        elif self.crossover < 0:  # in the market & cross to the downside\n",
    "            self.close()  # close long position"
   ]
  },
  {
   "cell_type": "code",
   "execution_count": 70,
   "metadata": {},
   "outputs": [
    {
     "name": "stdout",
     "output_type": "stream",
     "text": [
      "CPU times: total: 1.73 s\n",
      "Wall time: 1.84 s\n"
     ]
    }
   ],
   "source": [
    "%%time\n",
    "cerebro = bt.Cerebro()\n",
    "# code = ['600031', '300763', '600989', '300782','000001',]\n",
    "for c in code:\n",
    "    temp = df.query(f\"code=='{c}'\").set_index('datetime').drop(columns=['code'])\n",
    "    datafeed1 = bt.feeds.PandasData(dataname=temp, fromdate=st_date, todate=ed_date)\n",
    "    cerebro.adddata(datafeed1, name=c)\n"
   ]
  },
  {
   "cell_type": "code",
   "execution_count": 75,
   "metadata": {},
   "outputs": [],
   "source": [
    "cerebro.addstrategy(myStrategy)\n",
    "startcash = 300000\n",
    "cerebro.broker.setcash(startcash) \n",
    "# cerebro.broker.setcommission(commission=0.0003) \n",
    "comminfo = MyStockCommissionScheme()\n",
    "cerebro.broker.addcommissioninfo(comminfo)\n",
    "cerebro.addsizer(bt.sizers.FixedSize, stake=100)  #每次固定交易100股\n",
    "\n",
    "cerebro.addanalyzer(bt.analyzers.TimeReturn, _name='_TimeReturn')  # 返回收益率时序\n",
    "cerebro.addanalyzer(bt.analyzers.SharpeRatio, _name='_SharpeRatio')\n",
    "cerebro.addanalyzer(bt.analyzers.DrawDown, _name='_DrawDown')\n",
    "cerebro.addanalyzer(bt.analyzers.TimeDrawDown, _name='_TimeDrawDown')\n",
    "cerebro.addanalyzer(bt.analyzers.PositionsValue, _name='_PositionsValue')"
   ]
  },
  {
   "cell_type": "code",
   "execution_count": 72,
   "metadata": {},
   "outputs": [
    {
     "name": "stdout",
     "output_type": "stream",
     "text": [
      "2022-02-11, 买入 000725 100手:\n",
      "价格：17.14,                成本:1714.0,                手续费:0.0\n",
      "2022-02-18, 卖出 000725 -100手:\n",
      "价格：16.82,                成本: 1714.0,                手续费0.0\n",
      "2022-02-18, 策略收益：\n",
      "毛收益 -32.00, 净收益 -32.00\n",
      "2022-03-25, 买入 000725 100手:\n",
      "价格：14.81,                成本:1481.0,                手续费:0.0\n",
      "2022-03-30, 卖出 000725 -100手:\n",
      "价格：14.75,                成本: 1481.0,                手续费0.0\n",
      "2022-03-30, 策略收益：\n",
      "毛收益 -6.00, 净收益 -6.00\n",
      "2022-04-06, 买入 000725 100手:\n",
      "价格：14.97,                成本:1497.0,                手续费:0.0\n",
      "2022-04-12, 卖出 000725 -100手:\n",
      "价格：14.19,                成本: 1497.0,                手续费0.0\n",
      "2022-04-12, 策略收益：\n",
      "毛收益 -78.00, 净收益 -78.00\n",
      "2022-05-16, 买入 000725 100手:\n",
      "价格：13.45,                成本:1345.0,                手续费:0.0\n",
      "2022-06-10, 卖出 000725 -100手:\n",
      "价格：13.55,                成本: 1345.0,                手续费0.0\n",
      "2022-06-10, 策略收益：\n",
      "毛收益 10.00, 净收益 10.00\n",
      "2022-06-17, 买入 000725 100手:\n",
      "价格：14.16,                成本:1416.0,                手续费:0.0\n",
      "2022-06-28, 卖出 000725 -100手:\n",
      "价格：14.29,                成本: 1416.0,                手续费0.0\n",
      "2022-06-28, 策略收益：\n",
      "毛收益 13.00, 净收益 13.00\n",
      "2022-06-30, 买入 000725 100手:\n",
      "价格：14.36,                成本:1436.0,                手续费:0.0\n",
      "2022-07-07, 卖出 000725 -100手:\n",
      "价格：14.36,                成本: 1436.0,                手续费0.0\n",
      "2022-07-07, 策略收益：\n",
      "毛收益 0.00, 净收益 0.00\n",
      "2022-07-25, 买入 000725 100手:\n",
      "价格：14.29,                成本:1429.0,                手续费:0.0\n",
      "2022-08-01, 卖出 000725 -100手:\n",
      "价格：14.26,                成本: 1429.0,                手续费0.0\n",
      "2022-08-01, 策略收益：\n",
      "毛收益 -3.00, 净收益 -3.00\n",
      "2022-08-11, 买入 000725 100手:\n",
      "价格：14.23,                成本:1423.0,                手续费:0.0\n",
      "2022-08-25, 卖出 000725 -100手:\n",
      "价格：14.16,                成本: 1423.0,                手续费0.0\n",
      "2022-08-25, 策略收益：\n",
      "毛收益 -7.00, 净收益 -7.00\n",
      "2022-10-14, 买入 000725 100手:\n",
      "价格：13.03,                成本:1303.0,                手续费:0.0\n",
      "2022-10-28, 卖出 000725 -100手:\n",
      "价格：13.32,                成本: 1303.0,                手续费0.0\n",
      "2022-10-28, 策略收益：\n",
      "毛收益 29.00, 净收益 29.00\n",
      "2022-11-09, 买入 000725 100手:\n",
      "价格：13.22,                成本:1322.0,                手续费:0.0\n",
      "2022-11-25, 卖出 000725 -100手:\n",
      "价格：13.22,                成本: 1322.0,                手续费0.0\n",
      "2022-11-25, 策略收益：\n",
      "毛收益 0.00, 净收益 0.00\n",
      "2022-12-06, 买入 000725 100手:\n",
      "价格：13.48,                成本:1348.0,                手续费:0.0\n",
      "2022-12-14, 卖出 000725 -100手:\n",
      "价格：13.29,                成本: 1348.0,                手续费0.0\n",
      "2022-12-14, 策略收益：\n",
      "毛收益 -19.00, 净收益 -19.00\n",
      "期初总资金: 300000\n",
      "期末总资金: 299907.0\n",
      "净收益: -93.0\n",
      "CPU times: total: 11.2 s\n",
      "Wall time: 11.3 s\n"
     ]
    }
   ],
   "source": [
    "%%time\n",
    "result = cerebro.run()\n",
    "portvalue = cerebro.broker.getvalue()\n",
    "pnl = portvalue - startcash\n",
    "#打印结果\n",
    "print(f'期初总资金: {round(startcash,2)}')\n",
    "print(f'期末总资金: {round(portvalue,2)}')\n",
    "print(f'净收益: {round(pnl,2)}')"
   ]
  },
  {
   "cell_type": "code",
   "execution_count": 77,
   "metadata": {},
   "outputs": [
    {
     "ename": "AttributeError",
     "evalue": "'str' object has no attribute '_name'",
     "output_type": "error",
     "traceback": [
      "\u001b[1;31m---------------------------------------------------------------------------\u001b[0m",
      "\u001b[1;31mAttributeError\u001b[0m                            Traceback (most recent call last)",
      "\u001b[1;32md:\\github\\backtrader\\playGround\\jupyterFile\\bt\\bt_collect_stra.ipynb Cell 10\u001b[0m in \u001b[0;36m<cell line: 1>\u001b[1;34m()\u001b[0m\n\u001b[1;32m----> <a href='vscode-notebook-cell:/d%3A/github/backtrader/playGround/jupyterFile/bt/bt_collect_stra.ipynb#X20sZmlsZQ%3D%3D?line=0'>1</a>\u001b[0m cerebro\u001b[39m.\u001b[39;49mbroker\u001b[39m.\u001b[39;49mgetcommissioninfo(data\u001b[39m=\u001b[39;49m\u001b[39m'\u001b[39;49m\u001b[39m000001\u001b[39;49m\u001b[39m'\u001b[39;49m)\n",
      "File \u001b[1;32md:\\anaconda3\\envs\\finance\\lib\\site-packages\\backtrader\\broker.py:80\u001b[0m, in \u001b[0;36mBrokerBase.getcommissioninfo\u001b[1;34m(self, data)\u001b[0m\n\u001b[0;32m     77\u001b[0m \u001b[39mdef\u001b[39;00m \u001b[39mgetcommissioninfo\u001b[39m(\u001b[39mself\u001b[39m, data):\n\u001b[0;32m     78\u001b[0m     \u001b[39m'''Retrieves the ``CommissionInfo`` scheme associated with the given\u001b[39;00m\n\u001b[0;32m     79\u001b[0m \u001b[39m    ``data``'''\u001b[39;00m\n\u001b[1;32m---> 80\u001b[0m     \u001b[39mif\u001b[39;00m data\u001b[39m.\u001b[39;49m_name \u001b[39min\u001b[39;00m \u001b[39mself\u001b[39m\u001b[39m.\u001b[39mcomminfo:\n\u001b[0;32m     81\u001b[0m         \u001b[39mreturn\u001b[39;00m \u001b[39mself\u001b[39m\u001b[39m.\u001b[39mcomminfo[data\u001b[39m.\u001b[39m_name]\n\u001b[0;32m     83\u001b[0m     \u001b[39mreturn\u001b[39;00m \u001b[39mself\u001b[39m\u001b[39m.\u001b[39mcomminfo[\u001b[39mNone\u001b[39;00m]\n",
      "\u001b[1;31mAttributeError\u001b[0m: 'str' object has no attribute '_name'"
     ]
    }
   ],
   "source": [
    "cerebro.broker.getcommissioninfo(data='000001')"
   ]
  },
  {
   "cell_type": "code",
   "execution_count": 66,
   "metadata": {},
   "outputs": [
    {
     "data": {
      "application/javascript": "/* Put everything inside the global mpl namespace */\n/* global mpl */\nwindow.mpl = {};\n\nmpl.get_websocket_type = function () {\n    if (typeof WebSocket !== 'undefined') {\n        return WebSocket;\n    } else if (typeof MozWebSocket !== 'undefined') {\n        return MozWebSocket;\n    } else {\n        alert(\n            'Your browser does not have WebSocket support. ' +\n                'Please try Chrome, Safari or Firefox ≥ 6. ' +\n                'Firefox 4 and 5 are also supported but you ' +\n                'have to enable WebSockets in about:config.'\n        );\n    }\n};\n\nmpl.figure = function (figure_id, websocket, ondownload, parent_element) {\n    this.id = figure_id;\n\n    this.ws = websocket;\n\n    this.supports_binary = this.ws.binaryType !== undefined;\n\n    if (!this.supports_binary) {\n        var warnings = document.getElementById('mpl-warnings');\n        if (warnings) {\n            warnings.style.display = 'block';\n            warnings.textContent =\n                'This browser does not support binary websocket messages. ' +\n                'Performance may be slow.';\n        }\n    }\n\n    this.imageObj = new Image();\n\n    this.context = undefined;\n    this.message = undefined;\n    this.canvas = undefined;\n    this.rubberband_canvas = undefined;\n    this.rubberband_context = undefined;\n    this.format_dropdown = undefined;\n\n    this.image_mode = 'full';\n\n    this.root = document.createElement('div');\n    this.root.setAttribute('style', 'display: inline-block');\n    this._root_extra_style(this.root);\n\n    parent_element.appendChild(this.root);\n\n    this._init_header(this);\n    this._init_canvas(this);\n    this._init_toolbar(this);\n\n    var fig = this;\n\n    this.waiting = false;\n\n    this.ws.onopen = function () {\n        fig.send_message('supports_binary', { value: fig.supports_binary });\n        fig.send_message('send_image_mode', {});\n        if (fig.ratio !== 1) {\n            fig.send_message('set_device_pixel_ratio', {\n                device_pixel_ratio: fig.ratio,\n            });\n        }\n        fig.send_message('refresh', {});\n    };\n\n    this.imageObj.onload = function () {\n        if (fig.image_mode === 'full') {\n            // Full images could contain transparency (where diff images\n            // almost always do), so we need to clear the canvas so that\n            // there is no ghosting.\n            fig.context.clearRect(0, 0, fig.canvas.width, fig.canvas.height);\n        }\n        fig.context.drawImage(fig.imageObj, 0, 0);\n    };\n\n    this.imageObj.onunload = function () {\n        fig.ws.close();\n    };\n\n    this.ws.onmessage = this._make_on_message_function(this);\n\n    this.ondownload = ondownload;\n};\n\nmpl.figure.prototype._init_header = function () {\n    var titlebar = document.createElement('div');\n    titlebar.classList =\n        'ui-dialog-titlebar ui-widget-header ui-corner-all ui-helper-clearfix';\n    var titletext = document.createElement('div');\n    titletext.classList = 'ui-dialog-title';\n    titletext.setAttribute(\n        'style',\n        'width: 100%; text-align: center; padding: 3px;'\n    );\n    titlebar.appendChild(titletext);\n    this.root.appendChild(titlebar);\n    this.header = titletext;\n};\n\nmpl.figure.prototype._canvas_extra_style = function (_canvas_div) {};\n\nmpl.figure.prototype._root_extra_style = function (_canvas_div) {};\n\nmpl.figure.prototype._init_canvas = function () {\n    var fig = this;\n\n    var canvas_div = (this.canvas_div = document.createElement('div'));\n    canvas_div.setAttribute(\n        'style',\n        'border: 1px solid #ddd;' +\n            'box-sizing: content-box;' +\n            'clear: both;' +\n            'min-height: 1px;' +\n            'min-width: 1px;' +\n            'outline: 0;' +\n            'overflow: hidden;' +\n            'position: relative;' +\n            'resize: both;'\n    );\n\n    function on_keyboard_event_closure(name) {\n        return function (event) {\n            return fig.key_event(event, name);\n        };\n    }\n\n    canvas_div.addEventListener(\n        'keydown',\n        on_keyboard_event_closure('key_press')\n    );\n    canvas_div.addEventListener(\n        'keyup',\n        on_keyboard_event_closure('key_release')\n    );\n\n    this._canvas_extra_style(canvas_div);\n    this.root.appendChild(canvas_div);\n\n    var canvas = (this.canvas = document.createElement('canvas'));\n    canvas.classList.add('mpl-canvas');\n    canvas.setAttribute('style', 'box-sizing: content-box;');\n\n    this.context = canvas.getContext('2d');\n\n    var backingStore =\n        this.context.backingStorePixelRatio ||\n        this.context.webkitBackingStorePixelRatio ||\n        this.context.mozBackingStorePixelRatio ||\n        this.context.msBackingStorePixelRatio ||\n        this.context.oBackingStorePixelRatio ||\n        this.context.backingStorePixelRatio ||\n        1;\n\n    this.ratio = (window.devicePixelRatio || 1) / backingStore;\n\n    var rubberband_canvas = (this.rubberband_canvas = document.createElement(\n        'canvas'\n    ));\n    rubberband_canvas.setAttribute(\n        'style',\n        'box-sizing: content-box; position: absolute; left: 0; top: 0; z-index: 1;'\n    );\n\n    // Apply a ponyfill if ResizeObserver is not implemented by browser.\n    if (this.ResizeObserver === undefined) {\n        if (window.ResizeObserver !== undefined) {\n            this.ResizeObserver = window.ResizeObserver;\n        } else {\n            var obs = _JSXTOOLS_RESIZE_OBSERVER({});\n            this.ResizeObserver = obs.ResizeObserver;\n        }\n    }\n\n    this.resizeObserverInstance = new this.ResizeObserver(function (entries) {\n        var nentries = entries.length;\n        for (var i = 0; i < nentries; i++) {\n            var entry = entries[i];\n            var width, height;\n            if (entry.contentBoxSize) {\n                if (entry.contentBoxSize instanceof Array) {\n                    // Chrome 84 implements new version of spec.\n                    width = entry.contentBoxSize[0].inlineSize;\n                    height = entry.contentBoxSize[0].blockSize;\n                } else {\n                    // Firefox implements old version of spec.\n                    width = entry.contentBoxSize.inlineSize;\n                    height = entry.contentBoxSize.blockSize;\n                }\n            } else {\n                // Chrome <84 implements even older version of spec.\n                width = entry.contentRect.width;\n                height = entry.contentRect.height;\n            }\n\n            // Keep the size of the canvas and rubber band canvas in sync with\n            // the canvas container.\n            if (entry.devicePixelContentBoxSize) {\n                // Chrome 84 implements new version of spec.\n                canvas.setAttribute(\n                    'width',\n                    entry.devicePixelContentBoxSize[0].inlineSize\n                );\n                canvas.setAttribute(\n                    'height',\n                    entry.devicePixelContentBoxSize[0].blockSize\n                );\n            } else {\n                canvas.setAttribute('width', width * fig.ratio);\n                canvas.setAttribute('height', height * fig.ratio);\n            }\n            canvas.setAttribute(\n                'style',\n                'width: ' + width + 'px; height: ' + height + 'px;'\n            );\n\n            rubberband_canvas.setAttribute('width', width);\n            rubberband_canvas.setAttribute('height', height);\n\n            // And update the size in Python. We ignore the initial 0/0 size\n            // that occurs as the element is placed into the DOM, which should\n            // otherwise not happen due to the minimum size styling.\n            if (fig.ws.readyState == 1 && width != 0 && height != 0) {\n                fig.request_resize(width, height);\n            }\n        }\n    });\n    this.resizeObserverInstance.observe(canvas_div);\n\n    function on_mouse_event_closure(name) {\n        return function (event) {\n            return fig.mouse_event(event, name);\n        };\n    }\n\n    rubberband_canvas.addEventListener(\n        'mousedown',\n        on_mouse_event_closure('button_press')\n    );\n    rubberband_canvas.addEventListener(\n        'mouseup',\n        on_mouse_event_closure('button_release')\n    );\n    rubberband_canvas.addEventListener(\n        'dblclick',\n        on_mouse_event_closure('dblclick')\n    );\n    // Throttle sequential mouse events to 1 every 20ms.\n    rubberband_canvas.addEventListener(\n        'mousemove',\n        on_mouse_event_closure('motion_notify')\n    );\n\n    rubberband_canvas.addEventListener(\n        'mouseenter',\n        on_mouse_event_closure('figure_enter')\n    );\n    rubberband_canvas.addEventListener(\n        'mouseleave',\n        on_mouse_event_closure('figure_leave')\n    );\n\n    canvas_div.addEventListener('wheel', function (event) {\n        if (event.deltaY < 0) {\n            event.step = 1;\n        } else {\n            event.step = -1;\n        }\n        on_mouse_event_closure('scroll')(event);\n    });\n\n    canvas_div.appendChild(canvas);\n    canvas_div.appendChild(rubberband_canvas);\n\n    this.rubberband_context = rubberband_canvas.getContext('2d');\n    this.rubberband_context.strokeStyle = '#000000';\n\n    this._resize_canvas = function (width, height, forward) {\n        if (forward) {\n            canvas_div.style.width = width + 'px';\n            canvas_div.style.height = height + 'px';\n        }\n    };\n\n    // Disable right mouse context menu.\n    this.rubberband_canvas.addEventListener('contextmenu', function (_e) {\n        event.preventDefault();\n        return false;\n    });\n\n    function set_focus() {\n        canvas.focus();\n        canvas_div.focus();\n    }\n\n    window.setTimeout(set_focus, 100);\n};\n\nmpl.figure.prototype._init_toolbar = function () {\n    var fig = this;\n\n    var toolbar = document.createElement('div');\n    toolbar.classList = 'mpl-toolbar';\n    this.root.appendChild(toolbar);\n\n    function on_click_closure(name) {\n        return function (_event) {\n            return fig.toolbar_button_onclick(name);\n        };\n    }\n\n    function on_mouseover_closure(tooltip) {\n        return function (event) {\n            if (!event.currentTarget.disabled) {\n                return fig.toolbar_button_onmouseover(tooltip);\n            }\n        };\n    }\n\n    fig.buttons = {};\n    var buttonGroup = document.createElement('div');\n    buttonGroup.classList = 'mpl-button-group';\n    for (var toolbar_ind in mpl.toolbar_items) {\n        var name = mpl.toolbar_items[toolbar_ind][0];\n        var tooltip = mpl.toolbar_items[toolbar_ind][1];\n        var image = mpl.toolbar_items[toolbar_ind][2];\n        var method_name = mpl.toolbar_items[toolbar_ind][3];\n\n        if (!name) {\n            /* Instead of a spacer, we start a new button group. */\n            if (buttonGroup.hasChildNodes()) {\n                toolbar.appendChild(buttonGroup);\n            }\n            buttonGroup = document.createElement('div');\n            buttonGroup.classList = 'mpl-button-group';\n            continue;\n        }\n\n        var button = (fig.buttons[name] = document.createElement('button'));\n        button.classList = 'mpl-widget';\n        button.setAttribute('role', 'button');\n        button.setAttribute('aria-disabled', 'false');\n        button.addEventListener('click', on_click_closure(method_name));\n        button.addEventListener('mouseover', on_mouseover_closure(tooltip));\n\n        var icon_img = document.createElement('img');\n        icon_img.src = '_images/' + image + '.png';\n        icon_img.srcset = '_images/' + image + '_large.png 2x';\n        icon_img.alt = tooltip;\n        button.appendChild(icon_img);\n\n        buttonGroup.appendChild(button);\n    }\n\n    if (buttonGroup.hasChildNodes()) {\n        toolbar.appendChild(buttonGroup);\n    }\n\n    var fmt_picker = document.createElement('select');\n    fmt_picker.classList = 'mpl-widget';\n    toolbar.appendChild(fmt_picker);\n    this.format_dropdown = fmt_picker;\n\n    for (var ind in mpl.extensions) {\n        var fmt = mpl.extensions[ind];\n        var option = document.createElement('option');\n        option.selected = fmt === mpl.default_extension;\n        option.innerHTML = fmt;\n        fmt_picker.appendChild(option);\n    }\n\n    var status_bar = document.createElement('span');\n    status_bar.classList = 'mpl-message';\n    toolbar.appendChild(status_bar);\n    this.message = status_bar;\n};\n\nmpl.figure.prototype.request_resize = function (x_pixels, y_pixels) {\n    // Request matplotlib to resize the figure. Matplotlib will then trigger a resize in the client,\n    // which will in turn request a refresh of the image.\n    this.send_message('resize', { width: x_pixels, height: y_pixels });\n};\n\nmpl.figure.prototype.send_message = function (type, properties) {\n    properties['type'] = type;\n    properties['figure_id'] = this.id;\n    this.ws.send(JSON.stringify(properties));\n};\n\nmpl.figure.prototype.send_draw_message = function () {\n    if (!this.waiting) {\n        this.waiting = true;\n        this.ws.send(JSON.stringify({ type: 'draw', figure_id: this.id }));\n    }\n};\n\nmpl.figure.prototype.handle_save = function (fig, _msg) {\n    var format_dropdown = fig.format_dropdown;\n    var format = format_dropdown.options[format_dropdown.selectedIndex].value;\n    fig.ondownload(fig, format);\n};\n\nmpl.figure.prototype.handle_resize = function (fig, msg) {\n    var size = msg['size'];\n    if (size[0] !== fig.canvas.width || size[1] !== fig.canvas.height) {\n        fig._resize_canvas(size[0], size[1], msg['forward']);\n        fig.send_message('refresh', {});\n    }\n};\n\nmpl.figure.prototype.handle_rubberband = function (fig, msg) {\n    var x0 = msg['x0'] / fig.ratio;\n    var y0 = (fig.canvas.height - msg['y0']) / fig.ratio;\n    var x1 = msg['x1'] / fig.ratio;\n    var y1 = (fig.canvas.height - msg['y1']) / fig.ratio;\n    x0 = Math.floor(x0) + 0.5;\n    y0 = Math.floor(y0) + 0.5;\n    x1 = Math.floor(x1) + 0.5;\n    y1 = Math.floor(y1) + 0.5;\n    var min_x = Math.min(x0, x1);\n    var min_y = Math.min(y0, y1);\n    var width = Math.abs(x1 - x0);\n    var height = Math.abs(y1 - y0);\n\n    fig.rubberband_context.clearRect(\n        0,\n        0,\n        fig.canvas.width / fig.ratio,\n        fig.canvas.height / fig.ratio\n    );\n\n    fig.rubberband_context.strokeRect(min_x, min_y, width, height);\n};\n\nmpl.figure.prototype.handle_figure_label = function (fig, msg) {\n    // Updates the figure title.\n    fig.header.textContent = msg['label'];\n};\n\nmpl.figure.prototype.handle_cursor = function (fig, msg) {\n    fig.rubberband_canvas.style.cursor = msg['cursor'];\n};\n\nmpl.figure.prototype.handle_message = function (fig, msg) {\n    fig.message.textContent = msg['message'];\n};\n\nmpl.figure.prototype.handle_draw = function (fig, _msg) {\n    // Request the server to send over a new figure.\n    fig.send_draw_message();\n};\n\nmpl.figure.prototype.handle_image_mode = function (fig, msg) {\n    fig.image_mode = msg['mode'];\n};\n\nmpl.figure.prototype.handle_history_buttons = function (fig, msg) {\n    for (var key in msg) {\n        if (!(key in fig.buttons)) {\n            continue;\n        }\n        fig.buttons[key].disabled = !msg[key];\n        fig.buttons[key].setAttribute('aria-disabled', !msg[key]);\n    }\n};\n\nmpl.figure.prototype.handle_navigate_mode = function (fig, msg) {\n    if (msg['mode'] === 'PAN') {\n        fig.buttons['Pan'].classList.add('active');\n        fig.buttons['Zoom'].classList.remove('active');\n    } else if (msg['mode'] === 'ZOOM') {\n        fig.buttons['Pan'].classList.remove('active');\n        fig.buttons['Zoom'].classList.add('active');\n    } else {\n        fig.buttons['Pan'].classList.remove('active');\n        fig.buttons['Zoom'].classList.remove('active');\n    }\n};\n\nmpl.figure.prototype.updated_canvas_event = function () {\n    // Called whenever the canvas gets updated.\n    this.send_message('ack', {});\n};\n\n// A function to construct a web socket function for onmessage handling.\n// Called in the figure constructor.\nmpl.figure.prototype._make_on_message_function = function (fig) {\n    return function socket_on_message(evt) {\n        if (evt.data instanceof Blob) {\n            var img = evt.data;\n            if (img.type !== 'image/png') {\n                /* FIXME: We get \"Resource interpreted as Image but\n                 * transferred with MIME type text/plain:\" errors on\n                 * Chrome.  But how to set the MIME type?  It doesn't seem\n                 * to be part of the websocket stream */\n                img.type = 'image/png';\n            }\n\n            /* Free the memory for the previous frames */\n            if (fig.imageObj.src) {\n                (window.URL || window.webkitURL).revokeObjectURL(\n                    fig.imageObj.src\n                );\n            }\n\n            fig.imageObj.src = (window.URL || window.webkitURL).createObjectURL(\n                img\n            );\n            fig.updated_canvas_event();\n            fig.waiting = false;\n            return;\n        } else if (\n            typeof evt.data === 'string' &&\n            evt.data.slice(0, 21) === 'data:image/png;base64'\n        ) {\n            fig.imageObj.src = evt.data;\n            fig.updated_canvas_event();\n            fig.waiting = false;\n            return;\n        }\n\n        var msg = JSON.parse(evt.data);\n        var msg_type = msg['type'];\n\n        // Call the  \"handle_{type}\" callback, which takes\n        // the figure and JSON message as its only arguments.\n        try {\n            var callback = fig['handle_' + msg_type];\n        } catch (e) {\n            console.log(\n                \"No handler for the '\" + msg_type + \"' message type: \",\n                msg\n            );\n            return;\n        }\n\n        if (callback) {\n            try {\n                // console.log(\"Handling '\" + msg_type + \"' message: \", msg);\n                callback(fig, msg);\n            } catch (e) {\n                console.log(\n                    \"Exception inside the 'handler_\" + msg_type + \"' callback:\",\n                    e,\n                    e.stack,\n                    msg\n                );\n            }\n        }\n    };\n};\n\n// from https://stackoverflow.com/questions/1114465/getting-mouse-location-in-canvas\nmpl.findpos = function (e) {\n    //this section is from http://www.quirksmode.org/js/events_properties.html\n    var targ;\n    if (!e) {\n        e = window.event;\n    }\n    if (e.target) {\n        targ = e.target;\n    } else if (e.srcElement) {\n        targ = e.srcElement;\n    }\n    if (targ.nodeType === 3) {\n        // defeat Safari bug\n        targ = targ.parentNode;\n    }\n\n    // pageX,Y are the mouse positions relative to the document\n    var boundingRect = targ.getBoundingClientRect();\n    var x = e.pageX - (boundingRect.left + document.body.scrollLeft);\n    var y = e.pageY - (boundingRect.top + document.body.scrollTop);\n\n    return { x: x, y: y };\n};\n\n/*\n * return a copy of an object with only non-object keys\n * we need this to avoid circular references\n * https://stackoverflow.com/a/24161582/3208463\n */\nfunction simpleKeys(original) {\n    return Object.keys(original).reduce(function (obj, key) {\n        if (typeof original[key] !== 'object') {\n            obj[key] = original[key];\n        }\n        return obj;\n    }, {});\n}\n\nmpl.figure.prototype.mouse_event = function (event, name) {\n    var canvas_pos = mpl.findpos(event);\n\n    if (name === 'button_press') {\n        this.canvas.focus();\n        this.canvas_div.focus();\n    }\n\n    var x = canvas_pos.x * this.ratio;\n    var y = canvas_pos.y * this.ratio;\n\n    this.send_message(name, {\n        x: x,\n        y: y,\n        button: event.button,\n        step: event.step,\n        guiEvent: simpleKeys(event),\n    });\n\n    /* This prevents the web browser from automatically changing to\n     * the text insertion cursor when the button is pressed.  We want\n     * to control all of the cursor setting manually through the\n     * 'cursor' event from matplotlib */\n    event.preventDefault();\n    return false;\n};\n\nmpl.figure.prototype._key_event_extra = function (_event, _name) {\n    // Handle any extra behaviour associated with a key event\n};\n\nmpl.figure.prototype.key_event = function (event, name) {\n    // Prevent repeat events\n    if (name === 'key_press') {\n        if (event.key === this._key) {\n            return;\n        } else {\n            this._key = event.key;\n        }\n    }\n    if (name === 'key_release') {\n        this._key = null;\n    }\n\n    var value = '';\n    if (event.ctrlKey && event.key !== 'Control') {\n        value += 'ctrl+';\n    }\n    else if (event.altKey && event.key !== 'Alt') {\n        value += 'alt+';\n    }\n    else if (event.shiftKey && event.key !== 'Shift') {\n        value += 'shift+';\n    }\n\n    value += 'k' + event.key;\n\n    this._key_event_extra(event, name);\n\n    this.send_message(name, { key: value, guiEvent: simpleKeys(event) });\n    return false;\n};\n\nmpl.figure.prototype.toolbar_button_onclick = function (name) {\n    if (name === 'download') {\n        this.handle_save(this, null);\n    } else {\n        this.send_message('toolbar_button', { name: name });\n    }\n};\n\nmpl.figure.prototype.toolbar_button_onmouseover = function (tooltip) {\n    this.message.textContent = tooltip;\n};\n\n///////////////// REMAINING CONTENT GENERATED BY embed_js.py /////////////////\n// prettier-ignore\nvar _JSXTOOLS_RESIZE_OBSERVER=function(A){var t,i=new WeakMap,n=new WeakMap,a=new WeakMap,r=new WeakMap,o=new Set;function s(e){if(!(this instanceof s))throw new TypeError(\"Constructor requires 'new' operator\");i.set(this,e)}function h(){throw new TypeError(\"Function is not a constructor\")}function c(e,t,i,n){e=0 in arguments?Number(arguments[0]):0,t=1 in arguments?Number(arguments[1]):0,i=2 in arguments?Number(arguments[2]):0,n=3 in arguments?Number(arguments[3]):0,this.right=(this.x=this.left=e)+(this.width=i),this.bottom=(this.y=this.top=t)+(this.height=n),Object.freeze(this)}function d(){t=requestAnimationFrame(d);var s=new WeakMap,p=new Set;o.forEach((function(t){r.get(t).forEach((function(i){var r=t instanceof window.SVGElement,o=a.get(t),d=r?0:parseFloat(o.paddingTop),f=r?0:parseFloat(o.paddingRight),l=r?0:parseFloat(o.paddingBottom),u=r?0:parseFloat(o.paddingLeft),g=r?0:parseFloat(o.borderTopWidth),m=r?0:parseFloat(o.borderRightWidth),w=r?0:parseFloat(o.borderBottomWidth),b=u+f,F=d+l,v=(r?0:parseFloat(o.borderLeftWidth))+m,W=g+w,y=r?0:t.offsetHeight-W-t.clientHeight,E=r?0:t.offsetWidth-v-t.clientWidth,R=b+v,z=F+W,M=r?t.width:parseFloat(o.width)-R-E,O=r?t.height:parseFloat(o.height)-z-y;if(n.has(t)){var k=n.get(t);if(k[0]===M&&k[1]===O)return}n.set(t,[M,O]);var S=Object.create(h.prototype);S.target=t,S.contentRect=new c(u,d,M,O),s.has(i)||(s.set(i,[]),p.add(i)),s.get(i).push(S)}))})),p.forEach((function(e){i.get(e).call(e,s.get(e),e)}))}return s.prototype.observe=function(i){if(i instanceof window.Element){r.has(i)||(r.set(i,new Set),o.add(i),a.set(i,window.getComputedStyle(i)));var n=r.get(i);n.has(this)||n.add(this),cancelAnimationFrame(t),t=requestAnimationFrame(d)}},s.prototype.unobserve=function(i){if(i instanceof window.Element&&r.has(i)){var n=r.get(i);n.has(this)&&(n.delete(this),n.size||(r.delete(i),o.delete(i))),n.size||r.delete(i),o.size||cancelAnimationFrame(t)}},A.DOMRectReadOnly=c,A.ResizeObserver=s,A.ResizeObserverEntry=h,A}; // eslint-disable-line\nmpl.toolbar_items = [[\"Home\", \"Reset original view\", \"fa fa-home\", \"home\"], [\"Back\", \"Back to previous view\", \"fa fa-arrow-left\", \"back\"], [\"Forward\", \"Forward to next view\", \"fa fa-arrow-right\", \"forward\"], [\"\", \"\", \"\", \"\"], [\"Pan\", \"Left button pans, Right button zooms\\nx/y fixes axis, CTRL fixes aspect\", \"fa fa-arrows\", \"pan\"], [\"Zoom\", \"Zoom to rectangle\\nx/y fixes axis\", \"fa fa-square-o\", \"zoom\"], [\"\", \"\", \"\", \"\"], [\"Download\", \"Download plot\", \"fa fa-floppy-o\", \"download\"]];\n\nmpl.extensions = [\"eps\", \"jpeg\", \"pgf\", \"pdf\", \"png\", \"ps\", \"raw\", \"svg\", \"tif\", \"webp\"];\n\nmpl.default_extension = \"png\";/* global mpl */\n\nvar comm_websocket_adapter = function (comm) {\n    // Create a \"websocket\"-like object which calls the given IPython comm\n    // object with the appropriate methods. Currently this is a non binary\n    // socket, so there is still some room for performance tuning.\n    var ws = {};\n\n    ws.binaryType = comm.kernel.ws.binaryType;\n    ws.readyState = comm.kernel.ws.readyState;\n    function updateReadyState(_event) {\n        if (comm.kernel.ws) {\n            ws.readyState = comm.kernel.ws.readyState;\n        } else {\n            ws.readyState = 3; // Closed state.\n        }\n    }\n    comm.kernel.ws.addEventListener('open', updateReadyState);\n    comm.kernel.ws.addEventListener('close', updateReadyState);\n    comm.kernel.ws.addEventListener('error', updateReadyState);\n\n    ws.close = function () {\n        comm.close();\n    };\n    ws.send = function (m) {\n        //console.log('sending', m);\n        comm.send(m);\n    };\n    // Register the callback with on_msg.\n    comm.on_msg(function (msg) {\n        //console.log('receiving', msg['content']['data'], msg);\n        var data = msg['content']['data'];\n        if (data['blob'] !== undefined) {\n            data = {\n                data: new Blob(msg['buffers'], { type: data['blob'] }),\n            };\n        }\n        // Pass the mpl event to the overridden (by mpl) onmessage function.\n        ws.onmessage(data);\n    });\n    return ws;\n};\n\nmpl.mpl_figure_comm = function (comm, msg) {\n    // This is the function which gets called when the mpl process\n    // starts-up an IPython Comm through the \"matplotlib\" channel.\n\n    var id = msg.content.data.id;\n    // Get hold of the div created by the display call when the Comm\n    // socket was opened in Python.\n    var element = document.getElementById(id);\n    var ws_proxy = comm_websocket_adapter(comm);\n\n    function ondownload(figure, _format) {\n        window.open(figure.canvas.toDataURL());\n    }\n\n    var fig = new mpl.figure(id, ws_proxy, ondownload, element);\n\n    // Call onopen now - mpl needs it, as it is assuming we've passed it a real\n    // web socket which is closed, not our websocket->open comm proxy.\n    ws_proxy.onopen();\n\n    fig.parent_element = element;\n    fig.cell_info = mpl.find_output_cell(\"<div id='\" + id + \"'></div>\");\n    if (!fig.cell_info) {\n        console.error('Failed to find cell for figure', id, fig);\n        return;\n    }\n    fig.cell_info[0].output_area.element.on(\n        'cleared',\n        { fig: fig },\n        fig._remove_fig_handler\n    );\n};\n\nmpl.figure.prototype.handle_close = function (fig, msg) {\n    var width = fig.canvas.width / fig.ratio;\n    fig.cell_info[0].output_area.element.off(\n        'cleared',\n        fig._remove_fig_handler\n    );\n    fig.resizeObserverInstance.unobserve(fig.canvas_div);\n\n    // Update the output cell to use the data from the current canvas.\n    fig.push_to_output();\n    var dataURL = fig.canvas.toDataURL();\n    // Re-enable the keyboard manager in IPython - without this line, in FF,\n    // the notebook keyboard shortcuts fail.\n    IPython.keyboard_manager.enable();\n    fig.parent_element.innerHTML =\n        '<img src=\"' + dataURL + '\" width=\"' + width + '\">';\n    fig.close_ws(fig, msg);\n};\n\nmpl.figure.prototype.close_ws = function (fig, msg) {\n    fig.send_message('closing', msg);\n    // fig.ws.close()\n};\n\nmpl.figure.prototype.push_to_output = function (_remove_interactive) {\n    // Turn the data on the canvas into data in the output cell.\n    var width = this.canvas.width / this.ratio;\n    var dataURL = this.canvas.toDataURL();\n    this.cell_info[1]['text/html'] =\n        '<img src=\"' + dataURL + '\" width=\"' + width + '\">';\n};\n\nmpl.figure.prototype.updated_canvas_event = function () {\n    // Tell IPython that the notebook contents must change.\n    IPython.notebook.set_dirty(true);\n    this.send_message('ack', {});\n    var fig = this;\n    // Wait a second, then push the new image to the DOM so\n    // that it is saved nicely (might be nice to debounce this).\n    setTimeout(function () {\n        fig.push_to_output();\n    }, 1000);\n};\n\nmpl.figure.prototype._init_toolbar = function () {\n    var fig = this;\n\n    var toolbar = document.createElement('div');\n    toolbar.classList = 'btn-toolbar';\n    this.root.appendChild(toolbar);\n\n    function on_click_closure(name) {\n        return function (_event) {\n            return fig.toolbar_button_onclick(name);\n        };\n    }\n\n    function on_mouseover_closure(tooltip) {\n        return function (event) {\n            if (!event.currentTarget.disabled) {\n                return fig.toolbar_button_onmouseover(tooltip);\n            }\n        };\n    }\n\n    fig.buttons = {};\n    var buttonGroup = document.createElement('div');\n    buttonGroup.classList = 'btn-group';\n    var button;\n    for (var toolbar_ind in mpl.toolbar_items) {\n        var name = mpl.toolbar_items[toolbar_ind][0];\n        var tooltip = mpl.toolbar_items[toolbar_ind][1];\n        var image = mpl.toolbar_items[toolbar_ind][2];\n        var method_name = mpl.toolbar_items[toolbar_ind][3];\n\n        if (!name) {\n            /* Instead of a spacer, we start a new button group. */\n            if (buttonGroup.hasChildNodes()) {\n                toolbar.appendChild(buttonGroup);\n            }\n            buttonGroup = document.createElement('div');\n            buttonGroup.classList = 'btn-group';\n            continue;\n        }\n\n        button = fig.buttons[name] = document.createElement('button');\n        button.classList = 'btn btn-default';\n        button.href = '#';\n        button.title = name;\n        button.innerHTML = '<i class=\"fa ' + image + ' fa-lg\"></i>';\n        button.addEventListener('click', on_click_closure(method_name));\n        button.addEventListener('mouseover', on_mouseover_closure(tooltip));\n        buttonGroup.appendChild(button);\n    }\n\n    if (buttonGroup.hasChildNodes()) {\n        toolbar.appendChild(buttonGroup);\n    }\n\n    // Add the status bar.\n    var status_bar = document.createElement('span');\n    status_bar.classList = 'mpl-message pull-right';\n    toolbar.appendChild(status_bar);\n    this.message = status_bar;\n\n    // Add the close button to the window.\n    var buttongrp = document.createElement('div');\n    buttongrp.classList = 'btn-group inline pull-right';\n    button = document.createElement('button');\n    button.classList = 'btn btn-mini btn-primary';\n    button.href = '#';\n    button.title = 'Stop Interaction';\n    button.innerHTML = '<i class=\"fa fa-power-off icon-remove icon-large\"></i>';\n    button.addEventListener('click', function (_evt) {\n        fig.handle_close(fig, {});\n    });\n    button.addEventListener(\n        'mouseover',\n        on_mouseover_closure('Stop Interaction')\n    );\n    buttongrp.appendChild(button);\n    var titlebar = this.root.querySelector('.ui-dialog-titlebar');\n    titlebar.insertBefore(buttongrp, titlebar.firstChild);\n};\n\nmpl.figure.prototype._remove_fig_handler = function (event) {\n    var fig = event.data.fig;\n    if (event.target !== this) {\n        // Ignore bubbled events from children.\n        return;\n    }\n    fig.close_ws(fig, {});\n};\n\nmpl.figure.prototype._root_extra_style = function (el) {\n    el.style.boxSizing = 'content-box'; // override notebook setting of border-box.\n};\n\nmpl.figure.prototype._canvas_extra_style = function (el) {\n    // this is important to make the div 'focusable\n    el.setAttribute('tabindex', 0);\n    // reach out to IPython and tell the keyboard manager to turn it's self\n    // off when our div gets focus\n\n    // location in version 3\n    if (IPython.notebook.keyboard_manager) {\n        IPython.notebook.keyboard_manager.register_events(el);\n    } else {\n        // location in version 2\n        IPython.keyboard_manager.register_events(el);\n    }\n};\n\nmpl.figure.prototype._key_event_extra = function (event, _name) {\n    // Check for shift+enter\n    if (event.shiftKey && event.which === 13) {\n        this.canvas_div.blur();\n        // select the cell after this one\n        var index = IPython.notebook.find_cell_index(this.cell_info[0]);\n        IPython.notebook.select(index + 1);\n    }\n};\n\nmpl.figure.prototype.handle_save = function (fig, _msg) {\n    fig.ondownload(fig, null);\n};\n\nmpl.find_output_cell = function (html_output) {\n    // Return the cell and output element which can be found *uniquely* in the notebook.\n    // Note - this is a bit hacky, but it is done because the \"notebook_saving.Notebook\"\n    // IPython event is triggered only after the cells have been serialised, which for\n    // our purposes (turning an active figure into a static one), is too late.\n    var cells = IPython.notebook.get_cells();\n    var ncells = cells.length;\n    for (var i = 0; i < ncells; i++) {\n        var cell = cells[i];\n        if (cell.cell_type === 'code') {\n            for (var j = 0; j < cell.output_area.outputs.length; j++) {\n                var data = cell.output_area.outputs[j];\n                if (data.data) {\n                    // IPython >= 3 moved mimebundle to data attribute of output\n                    data = data.data;\n                }\n                if (data['text/html'] === html_output) {\n                    return [cell, data, j];\n                }\n            }\n        }\n    }\n};\n\n// Register the function which deals with the matplotlib target/channel.\n// The kernel may be null if the page has been refreshed.\nif (IPython.notebook.kernel !== null) {\n    IPython.notebook.kernel.comm_manager.register_target(\n        'matplotlib',\n        mpl.mpl_figure_comm\n    );\n}\n",
      "text/plain": [
       "<IPython.core.display.Javascript object>"
      ]
     },
     "metadata": {},
     "output_type": "display_data"
    },
    {
     "data": {
      "text/html": [
       "<div id='5d8d88d0-ac47-4f3f-a5cf-4db0caac3701'></div>"
      ],
      "text/plain": [
       "<IPython.core.display.HTML object>"
      ]
     },
     "metadata": {},
     "output_type": "display_data"
    },
    {
     "data": {
      "text/plain": [
       "<AxesSubplot: title={'center': 'return_curve'}>"
      ]
     },
     "execution_count": 66,
     "metadata": {},
     "output_type": "execute_result"
    },
    {
     "data": {
      "image/png": "[encoded data removed]",
      "text/plain": [
       "<Figure size 864x432 with 1 Axes>"
      ]
     },
     "metadata": {
      "needs_background": "light"
     },
     "output_type": "display_data"
    }
   ],
   "source": [
    "ret = pd.Series(result[0].analyzers._TimeReturn.get_analysis())\n",
    "(ret.loc['2022-01-01':] + 1).cumprod().plot(figsize=(12,6), title='return_curve')"
   ]
  },
  {
   "cell_type": "code",
   "execution_count": 67,
   "metadata": {},
   "outputs": [
    {
     "name": "stdout",
     "output_type": "stream",
     "text": [
      "年化收益率（非超额）：-0.00%\n",
      "年化波动率（非超额）：0.01%\n",
      "信息比率（非超额）：-0.16\n"
     ]
    }
   ],
   "source": [
    "ann_return = ret.loc['2019-08-30':].mean() * 12 * 100 # 计算年化收益率\n",
    "ann_vol = ret.loc['2019-08-30':].std() * np.sqrt(12) * 100 # 计算年化波动率\n",
    "\n",
    "print('年化收益率（非超额）：%.2f%%' % ann_return)\n",
    "print('年化波动率（非超额）：%.2f%%' % ann_vol)\n",
    "print('信息比率（非超额）：%.2f' % (ann_return/ann_vol))"
   ]
  },
  {
   "cell_type": "code",
   "execution_count": 58,
   "metadata": {},
   "outputs": [],
   "source": [
    "# cerebro.plot(style='candlestick')"
   ]
  }
 ],
 "metadata": {
  "kernelspec": {
   "display_name": "finance",
   "language": "python",
   "name": "python3"
  },
  "language_info": {
   "codemirror_mode": {
    "name": "ipython",
    "version": 3
   },
   "file_extension": ".py",
   "mimetype": "text/x-python",
   "name": "python",
   "nbconvert_exporter": "python",
   "pygments_lexer": "ipython3",
   "version": "3.8.5"
  },
  "orig_nbformat": 4,
  "vscode": {
   "interpreter": {
    "hash": "e1cdd51ebff389a9e3e72a04da856762a20abf3adc633b155339fdd9e9833100"
   }
  }
 },
 "nbformat": 4,
 "nbformat_minor": 2
}
