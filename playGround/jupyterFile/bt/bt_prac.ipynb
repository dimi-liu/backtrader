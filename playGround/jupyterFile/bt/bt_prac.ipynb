{
 "cells": [
  {
   "cell_type": "code",
   "execution_count": 11,
   "id": "1a83cc37",
   "metadata": {},
   "outputs": [],
   "source": [
    "from datetime import datetime\n",
    "from pathlib import Path\n",
    "import sqlite3\n",
    "import pandas as pd\n",
    "import numpy as np\n",
    "import random as rd\n",
    "import backtrader as bt # 导入 Backtrader\n",
    "import backtrader.indicators as btind # 导入策略分析模块\n",
    "import backtrader.feeds as btfeeds # 导入数据模块\n",
    "\n",
    "# 用来屏蔽方法内print\n",
    "class hiddenPrints:\n",
    "    def __enter__(self):\n",
    "        self._original_stdout = sys.stdout\n",
    "        sys.stdout = open(os.devnull, 'w')\n",
    "    def __exit__(self, exc_type, exc_val, exc_tb):\n",
    "        sys.stdout.close()\n",
    "        sys.stdout = self._original_stdout\n",
    "\n",
    "# 快速连接数据库\n",
    "class fast_db_conn:\n",
    "    def __init__(self,db_path):\n",
    "        self._db = db_path\n",
    "    def __enter__(self):\n",
    "        self._conn = sqlite3.connect(self._db)\n",
    "        print(\"打开连接 {}\".format(self._db))\n",
    "        return self._conn\n",
    "    def __exit__(self, exc_type, exc_val, exc_tb):\n",
    "        self._conn.commit()\n",
    "        self._conn.close()\n",
    "        print(\"关闭连接 {}\".format(self._db))\n"
   ]
  },
  {
   "cell_type": "code",
   "execution_count": 10,
   "id": "ce0977b5",
   "metadata": {},
   "outputs": [
    {
     "name": "stdout",
     "output_type": "stream",
     "text": [
      "当前路径为 D:\\gitee\\finance\\jupyterFile\\bt\n",
      "数据路径为 D:\\gitee\\finance\\db\n"
     ]
    }
   ],
   "source": [
    "# 声明路径\n",
    "cur_path = Path(r'.')\n",
    "print(\"当前路径为 {}\".format(cur_path.resolve()))\n",
    "gitee_path = cur_path / Path(r'./../../..')    # D:/gitee\n",
    "db_file_path = gitee_path / Path(r'./finance/db')     # D:/gitee/db\n",
    "print(\"数据路径为 {}\".format(db_file_path.resolve()))"
   ]
  },
  {
   "cell_type": "code",
   "execution_count": 12,
   "id": "8f90760d",
   "metadata": {},
   "outputs": [
    {
     "data": {
      "text/plain": [
       "WindowsPath('D:/gitee/finance/db/em_stock_2022_1.db')"
      ]
     },
     "execution_count": 12,
     "metadata": {},
     "output_type": "execute_result"
    }
   ],
   "source": [
    "# sql 语句\n",
    "sql = {}\n",
    "sql['simple-data'] = \"\"\"\n",
    "    select date,code,name,open,high,low,close from stock_all_221102 where date < '{end_date}' and date >= '{start_date}'\n",
    "\"\"\".strip()\n",
    "\n",
    "sql['data_spot'] = \"\"\"\n",
    "    select * from stock_spot \n",
    "\"\"\".strip()\n",
    "\n",
    "sql['data_hfq'] = \"\"\"\n",
    "    select * from stock_hfq\n",
    "\"\"\".strip()\n",
    "\n",
    "# 取22年数据\n",
    "dbname = [\n",
    "    'em_stock_2022_1.db',\n",
    "    'em_stock_2022_2.db',\n",
    "    'em_stock_2022_3.db',\n",
    "    'em_stock_2022_4.db',\n",
    "]\n",
    "\n",
    "dbpath = db_file_path / Path(dbname[0])\n",
    "dbpath.resolve()"
   ]
  },
  {
   "cell_type": "code",
   "execution_count": 13,
   "id": "73f221fa",
   "metadata": {},
   "outputs": [
    {
     "name": "stdout",
     "output_type": "stream",
     "text": [
      "打开连接 D:\\gitee\\finance\\db\\em_stock_2022_1.db\n",
      "(274032, 13)\n",
      "关闭连接 D:\\gitee\\finance\\db\\em_stock_2022_1.db\n",
      "打开连接 D:\\gitee\\finance\\db\\em_stock_2022_2.db\n",
      "(282131, 13)\n",
      "关闭连接 D:\\gitee\\finance\\db\\em_stock_2022_2.db\n",
      "打开连接 D:\\gitee\\finance\\db\\em_stock_2022_3.db\n",
      "(316312, 13)\n",
      "关闭连接 D:\\gitee\\finance\\db\\em_stock_2022_3.db\n",
      "打开连接 D:\\gitee\\finance\\db\\em_stock_2022_4.db\n",
      "(299536, 13)\n",
      "关闭连接 D:\\gitee\\finance\\db\\em_stock_2022_4.db\n"
     ]
    },
    {
     "data": {
      "text/html": [
       "<div>\n",
       "<style scoped>\n",
       "    .dataframe tbody tr th:only-of-type {\n",
       "        vertical-align: middle;\n",
       "    }\n",
       "\n",
       "    .dataframe tbody tr th {\n",
       "        vertical-align: top;\n",
       "    }\n",
       "\n",
       "    .dataframe thead th {\n",
       "        text-align: right;\n",
       "    }\n",
       "</style>\n",
       "<table border=\"1\" class=\"dataframe\">\n",
       "  <thead>\n",
       "    <tr style=\"text-align: right;\">\n",
       "      <th></th>\n",
       "      <th>d</th>\n",
       "      <th>open</th>\n",
       "      <th>close</th>\n",
       "      <th>high</th>\n",
       "      <th>low</th>\n",
       "      <th>volume</th>\n",
       "      <th>price_volume</th>\n",
       "      <th>amplitude</th>\n",
       "      <th>p_change</th>\n",
       "      <th>price_change</th>\n",
       "      <th>turnover</th>\n",
       "      <th>code</th>\n",
       "      <th>record_date</th>\n",
       "    </tr>\n",
       "  </thead>\n",
       "  <tbody>\n",
       "    <tr>\n",
       "      <th>0</th>\n",
       "      <td>2022-01-04</td>\n",
       "      <td>45.43</td>\n",
       "      <td>45.70</td>\n",
       "      <td>46.58</td>\n",
       "      <td>45.19</td>\n",
       "      <td>206882</td>\n",
       "      <td>397126992.0</td>\n",
       "      <td>3.08</td>\n",
       "      <td>1.20</td>\n",
       "      <td>0.54</td>\n",
       "      <td>4.86</td>\n",
       "      <td>002222</td>\n",
       "      <td>2022-11-19</td>\n",
       "    </tr>\n",
       "    <tr>\n",
       "      <th>1</th>\n",
       "      <td>2022-01-05</td>\n",
       "      <td>45.23</td>\n",
       "      <td>43.68</td>\n",
       "      <td>45.55</td>\n",
       "      <td>42.73</td>\n",
       "      <td>276311</td>\n",
       "      <td>506863760.0</td>\n",
       "      <td>6.17</td>\n",
       "      <td>-4.42</td>\n",
       "      <td>-2.02</td>\n",
       "      <td>6.49</td>\n",
       "      <td>002222</td>\n",
       "      <td>2022-11-19</td>\n",
       "    </tr>\n",
       "    <tr>\n",
       "      <th>2</th>\n",
       "      <td>2022-01-06</td>\n",
       "      <td>43.50</td>\n",
       "      <td>43.54</td>\n",
       "      <td>43.84</td>\n",
       "      <td>42.62</td>\n",
       "      <td>128472</td>\n",
       "      <td>232326894.0</td>\n",
       "      <td>2.79</td>\n",
       "      <td>-0.32</td>\n",
       "      <td>-0.14</td>\n",
       "      <td>3.02</td>\n",
       "      <td>002222</td>\n",
       "      <td>2022-11-19</td>\n",
       "    </tr>\n",
       "    <tr>\n",
       "      <th>3</th>\n",
       "      <td>2022-01-07</td>\n",
       "      <td>43.72</td>\n",
       "      <td>42.51</td>\n",
       "      <td>44.24</td>\n",
       "      <td>42.40</td>\n",
       "      <td>151622</td>\n",
       "      <td>272725584.0</td>\n",
       "      <td>4.23</td>\n",
       "      <td>-2.37</td>\n",
       "      <td>-1.03</td>\n",
       "      <td>3.56</td>\n",
       "      <td>002222</td>\n",
       "      <td>2022-11-19</td>\n",
       "    </tr>\n",
       "    <tr>\n",
       "      <th>4</th>\n",
       "      <td>2022-01-10</td>\n",
       "      <td>42.62</td>\n",
       "      <td>43.36</td>\n",
       "      <td>44.53</td>\n",
       "      <td>42.13</td>\n",
       "      <td>175901</td>\n",
       "      <td>319923328.0</td>\n",
       "      <td>5.65</td>\n",
       "      <td>2.00</td>\n",
       "      <td>0.85</td>\n",
       "      <td>4.13</td>\n",
       "      <td>002222</td>\n",
       "      <td>2022-11-19</td>\n",
       "    </tr>\n",
       "  </tbody>\n",
       "</table>\n",
       "</div>"
      ],
      "text/plain": [
       "           d   open  close   high    low  volume  price_volume  amplitude  \\\n",
       "0 2022-01-04  45.43  45.70  46.58  45.19  206882   397126992.0       3.08   \n",
       "1 2022-01-05  45.23  43.68  45.55  42.73  276311   506863760.0       6.17   \n",
       "2 2022-01-06  43.50  43.54  43.84  42.62  128472   232326894.0       2.79   \n",
       "3 2022-01-07  43.72  42.51  44.24  42.40  151622   272725584.0       4.23   \n",
       "4 2022-01-10  42.62  43.36  44.53  42.13  175901   319923328.0       5.65   \n",
       "\n",
       "   p_change  price_change  turnover    code record_date  \n",
       "0      1.20          0.54      4.86  002222  2022-11-19  \n",
       "1     -4.42         -2.02      6.49  002222  2022-11-19  \n",
       "2     -0.32         -0.14      3.02  002222  2022-11-19  \n",
       "3     -2.37         -1.03      3.56  002222  2022-11-19  \n",
       "4      2.00          0.85      4.13  002222  2022-11-19  "
      ]
     },
     "execution_count": 13,
     "metadata": {},
     "output_type": "execute_result"
    }
   ],
   "source": [
    "stock_hfq = []\n",
    "# 读取数据\n",
    "for i,db in enumerate(dbname):\n",
    "    with fast_db_conn((db_file_path / Path(db)).resolve()) as c:\n",
    "        data = pd.read_sql(sql=sql['data_hfq'], con = c, parse_dates=['d'])\n",
    "        print(data.shape)\n",
    "        stock_hfq.append(data)\n",
    "\n",
    "data = pd.concat(stock_hfq, ignore_index=True)\n",
    "data.head()"
   ]
  },
  {
   "cell_type": "code",
   "execution_count": 14,
   "id": "5fac0abf",
   "metadata": {},
   "outputs": [
    {
     "data": {
      "text/html": [
       "<div>\n",
       "<style scoped>\n",
       "    .dataframe tbody tr th:only-of-type {\n",
       "        vertical-align: middle;\n",
       "    }\n",
       "\n",
       "    .dataframe tbody tr th {\n",
       "        vertical-align: top;\n",
       "    }\n",
       "\n",
       "    .dataframe thead th {\n",
       "        text-align: right;\n",
       "    }\n",
       "</style>\n",
       "<table border=\"1\" class=\"dataframe\">\n",
       "  <thead>\n",
       "    <tr style=\"text-align: right;\">\n",
       "      <th></th>\n",
       "      <th>code</th>\n",
       "      <th>datetime</th>\n",
       "      <th>open</th>\n",
       "      <th>high</th>\n",
       "      <th>low</th>\n",
       "      <th>close</th>\n",
       "      <th>volume</th>\n",
       "      <th>openinterest</th>\n",
       "    </tr>\n",
       "  </thead>\n",
       "  <tbody>\n",
       "    <tr>\n",
       "      <th>0</th>\n",
       "      <td>002222</td>\n",
       "      <td>2022-01-04</td>\n",
       "      <td>45.43</td>\n",
       "      <td>46.58</td>\n",
       "      <td>45.19</td>\n",
       "      <td>45.70</td>\n",
       "      <td>206882</td>\n",
       "      <td>0</td>\n",
       "    </tr>\n",
       "    <tr>\n",
       "      <th>1</th>\n",
       "      <td>002222</td>\n",
       "      <td>2022-01-05</td>\n",
       "      <td>45.23</td>\n",
       "      <td>45.55</td>\n",
       "      <td>42.73</td>\n",
       "      <td>43.68</td>\n",
       "      <td>276311</td>\n",
       "      <td>0</td>\n",
       "    </tr>\n",
       "    <tr>\n",
       "      <th>2</th>\n",
       "      <td>002222</td>\n",
       "      <td>2022-01-06</td>\n",
       "      <td>43.50</td>\n",
       "      <td>43.84</td>\n",
       "      <td>42.62</td>\n",
       "      <td>43.54</td>\n",
       "      <td>128472</td>\n",
       "      <td>0</td>\n",
       "    </tr>\n",
       "    <tr>\n",
       "      <th>3</th>\n",
       "      <td>002222</td>\n",
       "      <td>2022-01-07</td>\n",
       "      <td>43.72</td>\n",
       "      <td>44.24</td>\n",
       "      <td>42.40</td>\n",
       "      <td>42.51</td>\n",
       "      <td>151622</td>\n",
       "      <td>0</td>\n",
       "    </tr>\n",
       "    <tr>\n",
       "      <th>4</th>\n",
       "      <td>002222</td>\n",
       "      <td>2022-01-10</td>\n",
       "      <td>42.62</td>\n",
       "      <td>44.53</td>\n",
       "      <td>42.13</td>\n",
       "      <td>43.36</td>\n",
       "      <td>175901</td>\n",
       "      <td>0</td>\n",
       "    </tr>\n",
       "  </tbody>\n",
       "</table>\n",
       "</div>"
      ],
      "text/plain": [
       "     code   datetime   open   high    low  close  volume  openinterest\n",
       "0  002222 2022-01-04  45.43  46.58  45.19  45.70  206882             0\n",
       "1  002222 2022-01-05  45.23  45.55  42.73  43.68  276311             0\n",
       "2  002222 2022-01-06  43.50  43.84  42.62  43.54  128472             0\n",
       "3  002222 2022-01-07  43.72  44.24  42.40  42.51  151622             0\n",
       "4  002222 2022-01-10  42.62  44.53  42.13  43.36  175901             0"
      ]
     },
     "execution_count": 14,
     "metadata": {},
     "output_type": "execute_result"
    }
   ],
   "source": [
    "df = data.loc[:,['code','d','open','high','low','close','volume']]\n",
    "\n",
    "col_map={\"d\":\"datetime\"}\n",
    "df = df.rename(columns=col_map)\n",
    "df['openinterest'] = 0\n",
    "\n",
    "code = df.loc[:,'code'].unique()\n",
    "st_date = df.datetime.min()\n",
    "ed_date = df.datetime.max()\n",
    "df.head()"
   ]
  },
  {
   "cell_type": "code",
   "execution_count": 15,
   "id": "cc3c5386-7b8e-4132-b035-55b1e15ca837",
   "metadata": {},
   "outputs": [
    {
     "name": "stdout",
     "output_type": "stream",
     "text": [
      "CPU times: total: 12 s\n",
      "Wall time: 11.9 s\n"
     ]
    }
   ],
   "source": [
    "%%time\n",
    "cerebro = bt.Cerebro()\n",
    "for c in code[:200]:\n",
    "    temp = df.query(f\"code=='{c}'\").set_index('datetime').drop(columns=['code'])\n",
    "    datafeed1 = bt.feeds.PandasData(dataname=temp, fromdate=st_date, todate=ed_date)\n",
    "    cerebro.adddata(datafeed1, name=c)\n"
   ]
  },
  {
   "cell_type": "code",
   "execution_count": 16,
   "id": "20cddb22",
   "metadata": {},
   "outputs": [],
   "source": [
    "class maCross(bt.Strategy):\n",
    "    # list of parameters which are configurable for the strategy\n",
    "    params = dict(\n",
    "        pfast=5,  # period for the fast moving average\n",
    "        pslow=15   # period for the slow moving average\n",
    "    )\n",
    "\n",
    "    def __init__(self):\n",
    "        sma1 = bt.ind.SMA(period=self.p.pfast)  # fast moving average\n",
    "        sma2 = bt.ind.SMA(period=self.p.pslow)  # slow moving average\n",
    "        self.crossover = bt.ind.CrossOver(sma1, sma2)  # crossover signal\n",
    "\n",
    "    def next(self):\n",
    "        if not self.position:  # not in the market\n",
    "            if self.crossover > 0:  # if fast crosses slow to the upside\n",
    "                self.buy()  # enter long\n",
    "\n",
    "        elif self.crossover < 0:  # in the market & cross to the downside\n",
    "            self.close()  # close long position"
   ]
  },
  {
   "cell_type": "code",
   "execution_count": 22,
   "id": "5699984a-ba0c-49a4-8bd9-de7d3acb8671",
   "metadata": {},
   "outputs": [
    {
     "data": {
      "text/plain": [
       "\u001b[1;31mInit signature:\u001b[0m \u001b[0mbt\u001b[0m\u001b[1;33m.\u001b[0m\u001b[0mind\u001b[0m\u001b[1;33m.\u001b[0m\u001b[0mSMA\u001b[0m\u001b[1;33m(\u001b[0m\u001b[1;33m*\u001b[0m\u001b[0margs\u001b[0m\u001b[1;33m,\u001b[0m \u001b[1;33m**\u001b[0m\u001b[0mkwargs\u001b[0m\u001b[1;33m)\u001b[0m\u001b[1;33m\u001b[0m\u001b[1;33m\u001b[0m\u001b[0m\n",
       "\u001b[1;31mDocstring:\u001b[0m     \n",
       "Non-weighted average of the last n periods\n",
       "\n",
       "Formula:\n",
       "  - movav = Sum(data, period) / period\n",
       "\n",
       "See also:\n",
       "  - http://en.wikipedia.org/wiki/Moving_average#Simple_moving_average\n",
       "\u001b[1;31mFile:\u001b[0m           d:\\anaconda3\\envs\\finance\\lib\\site-packages\\backtrader\\indicators\\sma.py\n",
       "\u001b[1;31mType:\u001b[0m           MetaMovAvBase\n",
       "\u001b[1;31mSubclasses:\u001b[0m     \n"
      ]
     },
     "metadata": {},
     "output_type": "display_data"
    }
   ],
   "source": [
    "bt.ind.SMA??"
   ]
  },
  {
   "cell_type": "code",
   "execution_count": 17,
   "id": "ce42e9f0-aa66-402a-aa27-8453145c4317",
   "metadata": {},
   "outputs": [
    {
     "name": "stdout",
     "output_type": "stream",
     "text": [
      "CPU times: total: 10.2 s\n",
      "Wall time: 10.3 s\n"
     ]
    }
   ],
   "source": [
    "%%time\n",
    "cerebro.addstrategy(maCross)\n",
    "rasult = cerebro.run()"
   ]
  },
  {
   "cell_type": "code",
   "execution_count": 18,
   "id": "054d2b32-f8dc-4f7c-a081-7f44c0dcf433",
   "metadata": {},
   "outputs": [
    {
     "name": "stdout",
     "output_type": "stream",
     "text": [
      "CPU times: total: 1min 47s\n",
      "Wall time: 2min 29s\n"
     ]
    },
    {
     "data": {
      "text/plain": [
       "[[<Figure size 960x720 with 403 Axes>]]"
      ]
     },
     "execution_count": 18,
     "metadata": {},
     "output_type": "execute_result"
    }
   ],
   "source": [
    "%%time\n",
    "cerebro.plot(iplot=False)"
   ]
  },
  {
   "cell_type": "code",
   "execution_count": null,
   "id": "1a12d914-82f8-4349-8e60-cd4cfc8fff86",
   "metadata": {},
   "outputs": [],
   "source": []
  },
  {
   "cell_type": "code",
   "execution_count": null,
   "id": "cd2ef810-660a-47e5-8ae0-a6f51c33d54a",
   "metadata": {},
   "outputs": [],
   "source": []
  },
  {
   "cell_type": "code",
   "execution_count": null,
   "id": "7e3796e0-288a-4941-912c-00229972c0bc",
   "metadata": {},
   "outputs": [],
   "source": []
  },
  {
   "cell_type": "code",
   "execution_count": null,
   "id": "1eee8f78-a653-4762-bcc5-5aae394375d7",
   "metadata": {},
   "outputs": [],
   "source": []
  },
  {
   "cell_type": "code",
   "execution_count": null,
   "id": "16d5ac0a-0722-427f-a7af-b013e8ed3cb7",
   "metadata": {},
   "outputs": [],
   "source": []
  },
  {
   "cell_type": "code",
   "execution_count": 118,
   "id": "7c27a384",
   "metadata": {},
   "outputs": [],
   "source": [
    "cerebro = bt.Cerebro()\n",
    "# 添加数据到datafeed\n",
    "for c in code[:5]:\n",
    "    temp = df.query(f\"code=='{c}'\").set_index('datetime').drop(columns=['code'])\n",
    "    datafeed1 = bt.feeds.PandasData(dataname=temp, fromdate=st_date, todate=ed_date)\n",
    "    cerebro.adddata(datafeed1, name=c)\n",
    "    \n",
    "class TestStrategy1(bt.Strategy):\n",
    "    def __init__(self):\n",
    "        self.count = 0 # 用于计算 next 的循环次数\n",
    "        # 打印数据集和数据集对应的名称\n",
    "        print(\"------------- init 中的索引位置-------------\")\n",
    "        print(\"股票code为 \", self.data1._name)\n",
    "        print(\"0 索引：\",'datetime',self.data1.lines.datetime.date(0), 'close',self.data1.lines.close[0])\n",
    "        print(\"-1 索引：\",'datetime',self.data1.lines.datetime.date(-1),'close', self.data1.lines.close[-1])\n",
    "        print(\"-2 索引\",'datetime', self.data1.lines.datetime.date(-2),'close', self.data1.lines.close[-2])\n",
    "        print(\"1 索引：\",'datetime',self.data1.lines.datetime.date(1),'close', self.data1.lines.close[1])\n",
    "        print(\"2 索引\",'datetime', self.data1.lines.datetime.date(2),'close', self.data1.lines.close[2])\n",
    "        print(\"从 0 开始往前取3天的收盘价：\", self.data1.lines.close.get(ago=0, size=3))\n",
    "        print(\"从-1开始往前取3天的收盘价：\", self.data1.lines.close.get(ago=-1, size=3))\n",
    "        print(\"从-2开始往前取3天的收盘价：\", self.data1.lines.close.get(ago=-2, size=3))\n",
    "        print(\"line的总长度：\", self.data1.buflen())\n",
    "        \n",
    "    def next(self):\n",
    "        print(f\"------------- next 的第{self.count+1}次循环 --------------\")\n",
    "        print(\"当前时点（今日）：\",'datetime',self.data1.lines.datetime.date(0),'close', self.data1.lines.close[0])\n",
    "        print(\"往前推1天（昨日）：\",'datetime',self.data1.lines.datetime.date(-1),'close', self.data1.lines.close[-1])\n",
    "        print(\"往前推2天（前日）\", 'datetime',self.data1.lines.datetime.date(-2),'close', self.data1.lines.close[-2])\n",
    "        print(\"前日、昨日、今日的收盘价：\", self.data1.lines.close.get(ago=0, size=3))\n",
    "        print(\"往后推1天（明日）：\",'datetime',self.data1.lines.datetime.date(1),'close', self.data1.lines.close[1])\n",
    "        print(\"往后推2天（明后日）\", 'datetime',self.data1.lines.datetime.date(2),'close', self.data1.lines.close[2])\n",
    "        print(\"已处理的数据点：\", len(self.data1))\n",
    "        print(\"line的总长度：\", self.data0.buflen())\n",
    "        self.count += 1\n",
    "\n",
    "cerebro.addstrategy(TestStrategy1)\n",
    "rasult = cerebro.run()"
   ]
  },
  {
   "cell_type": "code",
   "execution_count": null,
   "id": "12f5b6d0-f054-4b2e-bca5-0d5dc075c151",
   "metadata": {},
   "outputs": [],
   "source": []
  },
  {
   "cell_type": "code",
   "execution_count": null,
   "id": "e4826dfd",
   "metadata": {},
   "outputs": [],
   "source": []
  }
 ],
 "metadata": {
  "kernelspec": {
   "display_name": "finance",
   "language": "python",
   "name": "finance"
  },
  "language_info": {
   "codemirror_mode": {
    "name": "ipython",
    "version": 3
   },
   "file_extension": ".py",
   "mimetype": "text/x-python",
   "name": "python",
   "nbconvert_exporter": "python",
   "pygments_lexer": "ipython3",
   "version": "3.8.5"
  }
 },
 "nbformat": 4,
 "nbformat_minor": 5
}
