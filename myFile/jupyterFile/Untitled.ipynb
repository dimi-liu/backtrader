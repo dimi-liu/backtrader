{
 "cells": [
  {
   "cell_type": "code",
   "execution_count": 1,
   "id": "753857c2-78cb-4e53-9ddf-0b58946509cb",
   "metadata": {},
   "outputs": [],
   "source": [
    "import sys"
   ]
  },
  {
   "cell_type": "code",
   "execution_count": 2,
   "id": "7ebd5078-2794-4154-9ed9-c931b2bad5ab",
   "metadata": {},
   "outputs": [
    {
     "data": {
      "text/plain": [
       "['D:\\\\gitee\\\\finance\\\\jupyterFile',\n",
       " 'D:\\\\anaconda3\\\\envs\\\\d2l-pt\\\\python38.zip',\n",
       " 'D:\\\\anaconda3\\\\envs\\\\d2l-pt\\\\DLLs',\n",
       " 'D:\\\\anaconda3\\\\envs\\\\d2l-pt\\\\lib',\n",
       " 'D:\\\\anaconda3\\\\envs\\\\d2l-pt',\n",
       " '',\n",
       " 'D:\\\\anaconda3\\\\envs\\\\d2l-pt\\\\lib\\\\site-packages',\n",
       " 'D:\\\\anaconda3\\\\envs\\\\d2l-pt\\\\lib\\\\site-packages\\\\win32',\n",
       " 'D:\\\\anaconda3\\\\envs\\\\d2l-pt\\\\lib\\\\site-packages\\\\win32\\\\lib',\n",
       " 'D:\\\\anaconda3\\\\envs\\\\d2l-pt\\\\lib\\\\site-packages\\\\Pythonwin']"
      ]
     },
     "execution_count": 2,
     "metadata": {},
     "output_type": "execute_result"
    }
   ],
   "source": [
    "sys.path"
   ]
  },
  {
   "cell_type": "code",
   "execution_count": 4,
   "id": "87b3a211-17c2-4f14-aeae-20a1c781ddb4",
   "metadata": {},
   "outputs": [],
   "source": [
    "import torch as ak"
   ]
  },
  {
   "cell_type": "code",
   "execution_count": 1,
   "id": "f835f68a-55ac-465c-8fe0-b158b395239c",
   "metadata": {},
   "outputs": [
    {
     "name": "stdout",
     "output_type": "stream",
     "text": [
      "# conda environments:\n",
      "#\n",
      "base                  *  D:\\anaconda3\n",
      "d2l-pt                   D:\\anaconda3\\envs\\d2l-pt\n",
      "finance                  D:\\anaconda3\\envs\\finance\n",
      "\n",
      "\n",
      "Note: you may need to restart the kernel to use updated packages.\n"
     ]
    }
   ],
   "source": [
    "conda info -e"
   ]
  },
  {
   "cell_type": "code",
   "execution_count": 1,
   "id": "924bc3c3-49a6-439e-b885-8098b593c53d",
   "metadata": {},
   "outputs": [
    {
     "name": "stdout",
     "output_type": "stream",
     "text": [
      "# packages in environment at D:\\anaconda3\\envs\\d2l-pt:\n",
      "Note: you may need to restart the kernel to use updated packages.\n",
      "\n",
      "#\n",
      "# Name                    Version                   Build  Channel\n",
      "anyio                     3.6.1                    pypi_0    pypi\n",
      "argon2-cffi               21.3.0                   pypi_0    pypi\n",
      "argon2-cffi-bindings      21.2.0                   pypi_0    pypi\n",
      "asttokens                 2.0.5                    pypi_0    pypi\n",
      "attrs                     21.4.0                   pypi_0    pypi\n",
      "backcall                  0.2.0                    pypi_0    pypi\n",
      "beautifulsoup4            4.11.1                   pypi_0    pypi\n",
      "bleach                    5.0.0                    pypi_0    pypi\n",
      "ca-certificates           2022.4.26            haa95532_0    https://mirrors.tuna.tsinghua.edu.cn/anaconda/pkgs/main\n",
      "certifi                   2022.5.18.1      py38haa95532_0    https://mirrors.tuna.tsinghua.edu.cn/anaconda/pkgs/main\n",
      "cffi                      1.15.0                   pypi_0    pypi\n",
      "chardet                   4.0.0                    pypi_0    pypi\n",
      "colorama                  0.4.4                    pypi_0    pypi\n",
      "cycler                    0.11.0                   pypi_0    pypi\n",
      "d2l                       0.17.5                   pypi_0    pypi\n",
      "debugpy                   1.6.0                    pypi_0    pypi\n",
      "decorator                 5.1.1                    pypi_0    pypi\n",
      "defusedxml                0.7.1                    pypi_0    pypi\n",
      "entrypoints               0.4                      pypi_0    pypi\n",
      "executing                 0.8.3                    pypi_0    pypi\n",
      "fastjsonschema            2.15.3                   pypi_0    pypi\n",
      "fonttools                 4.33.3                   pypi_0    pypi\n",
      "idna                      2.10                     pypi_0    pypi\n",
      "importlib-resources       5.7.1                    pypi_0    pypi\n",
      "ipykernel                 6.13.0                   pypi_0    pypi\n",
      "ipython                   8.4.0                    pypi_0    pypi\n",
      "ipython-genutils          0.2.0                    pypi_0    pypi\n",
      "ipywidgets                7.7.0                    pypi_0    pypi\n",
      "jedi                      0.18.1                   pypi_0    pypi\n",
      "jinja2                    3.1.2                    pypi_0    pypi\n",
      "jsonschema                4.5.1                    pypi_0    pypi\n",
      "jupyter                   1.0.0                    pypi_0    pypi\n",
      "jupyter-client            7.3.1                    pypi_0    pypi\n",
      "jupyter-console           6.4.3                    pypi_0    pypi\n",
      "jupyter-core              4.10.0                   pypi_0    pypi\n",
      "jupyter-kite              2.0.2                    pypi_0    pypi\n",
      "jupyter-server            1.17.1                   pypi_0    pypi\n",
      "jupyterlab-pygments       0.2.2                    pypi_0    pypi\n",
      "jupyterlab-widgets        1.1.0                    pypi_0    pypi\n",
      "kiwisolver                1.4.2                    pypi_0    pypi\n",
      "markupsafe                2.1.1                    pypi_0    pypi\n",
      "matplotlib                3.5.1                    pypi_0    pypi\n",
      "matplotlib-inline         0.1.3                    pypi_0    pypi\n",
      "mistune                   0.8.4                    pypi_0    pypi\n",
      "nbclient                  0.6.3                    pypi_0    pypi\n",
      "nbconvert                 6.5.0                    pypi_0    pypi\n",
      "nbformat                  5.4.0                    pypi_0    pypi\n",
      "nest-asyncio              1.5.5                    pypi_0    pypi\n",
      "nodejs                    16.13.1              haa95532_0    https://mirrors.tuna.tsinghua.edu.cn/anaconda/pkgs/main\n",
      "notebook                  6.4.11                   pypi_0    pypi\n",
      "numpy                     1.21.5                   pypi_0    pypi\n",
      "openssl                   1.1.1o               h2bbff1b_0    https://mirrors.tuna.tsinghua.edu.cn/anaconda/pkgs/main\n",
      "packaging                 21.3                     pypi_0    pypi\n",
      "pandas                    1.2.4                    pypi_0    pypi\n",
      "pandocfilters             1.5.0                    pypi_0    pypi\n",
      "parso                     0.8.3                    pypi_0    pypi\n",
      "pickleshare               0.7.5                    pypi_0    pypi\n",
      "pillow                    9.1.1                    pypi_0    pypi\n",
      "pip                       21.2.2           py38haa95532_0    https://mirrors.tuna.tsinghua.edu.cn/anaconda/pkgs/main\n",
      "prometheus-client         0.14.1                   pypi_0    pypi\n",
      "prompt-toolkit            3.0.29                   pypi_0    pypi\n",
      "psutil                    5.9.1                    pypi_0    pypi\n",
      "pure-eval                 0.2.2                    pypi_0    pypi\n",
      "pycparser                 2.21                     pypi_0    pypi\n",
      "pygments                  2.12.0                   pypi_0    pypi\n",
      "pyparsing                 3.0.9                    pypi_0    pypi\n",
      "pyrsistent                0.18.1                   pypi_0    pypi\n",
      "python                    3.8.13               h6244533_0    https://mirrors.tuna.tsinghua.edu.cn/anaconda/pkgs/main\n",
      "python-dateutil           2.8.2                    pypi_0    pypi\n",
      "pytz                      2022.1                   pypi_0    pypi\n",
      "pywin32                   304                      pypi_0    pypi\n",
      "pywinpty                  2.0.5                    pypi_0    pypi\n",
      "pyzmq                     23.0.0                   pypi_0    pypi\n",
      "qtconsole                 5.3.0                    pypi_0    pypi\n",
      "qtpy                      2.1.0                    pypi_0    pypi\n",
      "requests                  2.25.1                   pypi_0    pypi\n",
      "send2trash                1.8.0                    pypi_0    pypi\n",
      "setuptools                61.2.0           py38haa95532_0    https://mirrors.tuna.tsinghua.edu.cn/anaconda/pkgs/main\n",
      "six                       1.16.0                   pypi_0    pypi\n",
      "sniffio                   1.2.0                    pypi_0    pypi\n",
      "soupsieve                 2.3.2.post1              pypi_0    pypi\n",
      "sqlite                    3.38.3               h2bbff1b_0    https://mirrors.tuna.tsinghua.edu.cn/anaconda/pkgs/main\n",
      "stack-data                0.2.0                    pypi_0    pypi\n",
      "terminado                 0.15.0                   pypi_0    pypi\n",
      "tinycss2                  1.1.1                    pypi_0    pypi\n",
      "torch                     1.11.0                   pypi_0    pypi\n",
      "torchvision               0.12.0                   pypi_0    pypi\n",
      "tornado                   6.1                      pypi_0    pypi\n",
      "traitlets                 5.2.1.post0              pypi_0    pypi\n",
      "typing-extensions         4.2.0                    pypi_0    pypi\n",
      "urllib3                   1.26.9                   pypi_0    pypi\n",
      "vc                        14.2                 h21ff451_1    https://mirrors.tuna.tsinghua.edu.cn/anaconda/pkgs/main\n",
      "vs2015_runtime            14.27.29016          h5e58377_2    https://mirrors.tuna.tsinghua.edu.cn/anaconda/pkgs/main\n",
      "wcwidth                   0.2.5                    pypi_0    pypi\n",
      "webencodings              0.5.1                    pypi_0    pypi\n",
      "websocket-client          1.3.2                    pypi_0    pypi\n",
      "wheel                     0.37.1             pyhd3eb1b0_0    https://mirrors.tuna.tsinghua.edu.cn/anaconda/pkgs/main\n",
      "widgetsnbextension        3.6.0                    pypi_0    pypi\n",
      "wincertstore              0.2              py38haa95532_2    https://mirrors.tuna.tsinghua.edu.cn/anaconda/pkgs/main\n",
      "zipp                      3.8.0                    pypi_0    pypi\n"
     ]
    }
   ],
   "source": [
    "conda list"
   ]
  },
  {
   "cell_type": "code",
   "execution_count": null,
   "id": "62dfe234-9883-4879-a28b-0b4176550fd5",
   "metadata": {},
   "outputs": [],
   "source": []
  }
 ],
 "metadata": {
  "kernelspec": {
   "display_name": "d2l-pt",
   "language": "python",
   "name": "d2l-pt"
  },
  "language_info": {
   "codemirror_mode": {
    "name": "ipython",
    "version": 3
   },
   "file_extension": ".py",
   "mimetype": "text/x-python",
   "name": "python",
   "nbconvert_exporter": "python",
   "pygments_lexer": "ipython3",
   "version": "3.8.13"
  }
 },
 "nbformat": 4,
 "nbformat_minor": 5
}