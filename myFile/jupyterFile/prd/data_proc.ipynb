{
 "cells": [
  {
   "cell_type": "code",
   "execution_count": 1,
   "id": "271c9d09",
   "metadata": {},
   "outputs": [
    {
     "name": "stdout",
     "output_type": "stream",
     "text": [
      "当前路径为 E:\\gitee\\finance\\jupyterFile\\prd\n",
      "数据库路径为 E:\\gitee\\db\\stock.db\n"
     ]
    }
   ],
   "source": [
    "import numpy as np\n",
    "import pandas as pd\n",
    "import sqlite3\n",
    "from pathlib import Path\n",
    "from datetime import datetime\n",
    "import backtrader as bt # 导入 Backtrader\n",
    "import backtrader.indicators as btind # 导入策略分析模块\n",
    "import backtrader.feeds as btfeeds # 导入数据模块\n",
    "import  gc\n",
    "\n",
    "# 快速连接数据库\n",
    "class fast_db_conn:\n",
    "    def __init__(self,db_path):\n",
    "        self._db = db_path\n",
    "    def __enter__(self):\n",
    "        self._conn = sqlite3.connect(self._db)\n",
    "        print(\"打开连接 {}\".format(self._db))\n",
    "        return self._conn\n",
    "    def __exit__(self, exc_type, exc_val, exc_tb):\n",
    "        self._conn.commit()\n",
    "        self._conn.close()\n",
    "        print(\"关闭连接 {}\".format(self._db))\n",
    "\n",
    "# 声明路径\n",
    "cur_path = Path(r'.')\n",
    "print(\"当前路径为 {}\".format(cur_path.resolve()))\n",
    "gitee_path = cur_path / Path(r'./../../..')    # D:/gitee\n",
    "db_file_path = gitee_path / Path(r'./db')     # D:/gitee/db\n",
    "db_name_stock = Path(r'./stock.db')\n",
    "datapath = Path(r'./../../data/tushare_old')\n",
    "dbpath = (db_file_path/db_name_stock).resolve()\n",
    "ddl_path = Path(r'./sql/em_stock.sql').resolve()\n",
    "print(\"数据库路径为 {}\".format(dbpath.resolve()))"
   ]
  },
  {
   "cell_type": "code",
   "execution_count": 67,
   "id": "6290b05f",
   "metadata": {},
   "outputs": [],
   "source": [
    "st_date = datetime(2022,12,26)\n",
    "ed_date = datetime(2022,12,31)\n",
    "rd_date = datetime(2022,12,31)\n",
    "\n",
    "st_date_ymd = st_date.strftime('%Y%m%d')\n",
    "ed_date_ymd = ed_date.strftime('%Y%m%d')\n",
    "rd_date_ymd = rd_date.strftime('%Y%m%d')\n",
    "\n",
    "st_date_date = st_date.strftime('%Y-%m-%d')\n",
    "ed_date_date = ed_date.strftime('%Y-%m-%d')\n",
    "rd_date_date = rd_date.strftime('%Y-%m-%d')\n",
    "\n",
    "\n",
    "tbl = 'em_stock_' + st_date_ymd + '_' + ed_date_ymd + '_' + rd_date_ymd\n",
    "tblhfq = 'em_stock_hfq_' + st_date_ymd + '_' + ed_date_ymd + '_' + rd_date_ymd\n",
    "\n",
    "sql = {}\n",
    "sql['em_spot_data'] = \"\"\" select * from {tbl1} where `日期` <= '{end_date}' and `日期` >= '{start_date}' \"\"\".strip()\n",
    "sql['em_spot_data_hfq'] = \"\"\" select * from {tblhfq1} where `日期` <= '{end_date}' and `日期` >= '{start_date}' \"\"\".strip()\n",
    "\n",
    "# 目标路径\n",
    "new_db = 'em_stock_2023_1.db'\n"
   ]
  },
  {
   "cell_type": "code",
   "execution_count": 68,
   "id": "922596e2",
   "metadata": {},
   "outputs": [
    {
     "name": "stdout",
     "output_type": "stream",
     "text": [
      "打开连接 E:\\gitee\\db\\stock.db\n",
      "start_date 2022-12-26 end_date 2022-12-31 读取成功(25262, 13)\n",
      "start_date 2022-12-26 end_date 2022-12-31 读取成功(25262, 13)\n",
      "关闭连接 E:\\gitee\\db\\stock.db\n"
     ]
    }
   ],
   "source": [
    "with fast_db_conn(dbpath) as c:\n",
    "    data = pd.read_sql(sql=sql['em_spot_data'].format(start_date = st_date_date, end_date = ed_date_date, tbl1=tbl),con = c,coerce_float = False,)\n",
    "    data_hfq = pd.read_sql(sql=sql['em_spot_data_hfq'].format(start_date = st_date_date, end_date = ed_date_date, tblhfq1=tblhfq),con = c,coerce_float = False,)\n",
    "    print(\"start_date {} end_date {} 读取成功{}\".format(st_date_date,ed_date_date,data.shape))\n",
    "    print(\"start_date {} end_date {} 读取成功{}\".format(st_date_date,ed_date_date,data_hfq.shape))\n",
    "\n",
    "# 处理数据\n",
    "col_map={\"日期\":\"d\", \"开盘\":\"open\", \"收盘\":\"close\", \"最高\":\"high\", \"最低\":\"low\", \"成交量\":\"volume\", \"成交额\":\"price_volume\",\n",
    "         \"振幅\":\"amplitude\",\"涨跌幅\":\"p_change\",\"涨跌额\":\"price_change\",\"换手率\":\"turnover\",} # 股票不需要 openinterest 期货期权才涉及\n",
    "h = data.rename(columns=col_map)\n",
    "h1 = data_hfq.rename(columns=col_map)\n",
    "h['record_date'] = rd_date_date\n",
    "h1['record_date'] = rd_date_date\n",
    "h = h.drop(['pk'],axis=1)\n",
    "h1 = h1.drop(['pk'],axis=1)"
   ]
  },
  {
   "cell_type": "code",
   "execution_count": 69,
   "id": "830a7850",
   "metadata": {},
   "outputs": [
    {
     "name": "stdout",
     "output_type": "stream",
     "text": [
      "打开连接 E:\\gitee\\finance\\db\\em_stock_2022_4.db\n",
      "关闭连接 E:\\gitee\\finance\\db\\em_stock_2022_4.db\n"
     ]
    }
   ],
   "source": [
    "# 写数据\n",
    "with fast_db_conn((Path(r'../db')/Path(new_db)).resolve()) as c: \n",
    "    h.to_sql(name='stock_spot', con=c, if_exists='append', index=False)\n",
    "    h1.to_sql(name='stock_hfq', con=c, if_exists='append', index=False)"
   ]
  }
 ],
 "metadata": {
  "kernelspec": {
   "display_name": "quant",
   "language": "python",
   "name": "quant"
  },
  "language_info": {
   "codemirror_mode": {
    "name": "ipython",
    "version": 3
   },
   "file_extension": ".py",
   "mimetype": "text/x-python",
   "name": "python",
   "nbconvert_exporter": "python",
   "pygments_lexer": "ipython3",
   "version": "3.8.3"
  }
 },
 "nbformat": 4,
 "nbformat_minor": 5
}
