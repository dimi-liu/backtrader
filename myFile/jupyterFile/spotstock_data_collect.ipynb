{
 "cells": [
  {
   "cell_type": "code",
   "execution_count": 23,
   "id": "2d230b9f",
   "metadata": {},
   "outputs": [],
   "source": [
    "import pandas as pd\n",
    "import sqlite3\n",
    "import datetime as dt\n",
    "import os\n",
    "from pathlib import Path\n",
    "import akshare as ak\n",
    "import traceback\n",
    "\n",
    "# global para\n",
    "dbpath = Path(r'./../db')\n",
    "logpath = Path(r'./../log')"
   ]
  },
  {
   "cell_type": "code",
   "execution_count": 24,
   "id": "60db1512",
   "metadata": {},
   "outputs": [],
   "source": [
    "def get_ak_data():\n",
    "    \"\"\"\n",
    "    通过akshare接口获取数据，数据以kv存储在dict中返回;\n",
    "    key 为数据库中表名，value 为dataframe\n",
    "    目前获取的数据为:\n",
    "    东财实时数据  spot_price_em\n",
    "    新浪实时数据  spot_price_sina\n",
    "    \"\"\"\n",
    "    res = {}\n",
    "    res['ODS_STOCK_SPOT_PRICE_EM'] = ak.stock_zh_a_spot_em()  # 东财实时数据\n",
    "    res['ODS_STOCK_SPOT_PRICE_SINA'] = ak.stock_zh_a_spot()  # 新浪实时数据\n",
    "\n",
    "    return res"
   ]
  },
  {
   "cell_type": "code",
   "execution_count": null,
   "id": "bb524231",
   "metadata": {},
   "outputs": [],
   "source": [
    "def db_ingest(dict, db_path, if_tab_exists='append', event_dt=True, ingest_tm=True, index=False):\n",
    "    try:\n",
    "        tab_suffix = '-' + dt.datetime.now().strftime(\"%y%m%d\")\n",
    "        conn = sqlite3.connect(db_path)\n",
    "        for name, df in dict.items():\n",
    "            if event_dt: df['event_dt'] = dt.datetime.now().strftime(\"%Y-%m-%d\")  # 目前为数据摄入时间，后续需要优化为自动计算上一交易日\n",
    "            if ingest_tm: df['ingest_tm'] = dt.datetime.now().strftime(\"%Y-%m-%d %H:%M:%S\")  # 数据写入时间\n",
    "            df.to_sql(name=name + tab_suffix, con=conn, if_exists=if_tab_exists, index=index)\n",
    "            print(\"表\" + name + \"写入成功\")\n",
    "        conn.commit()\n",
    "        print(\"事务提交，共提交\" + str(len(dict)) + \"张表\")\n",
    "        conn.close()\n",
    "        print(\"数据库关闭,入库成功\")\n",
    "    except Exception as e:\n",
    "        print(dt.datetime.now().strftime(\"%Y-%m-%d %H:%M:%S\") + \"数据入库异常:{0}\".format(e))\n",
    "        traceback.print_exc()\n"
   ]
  },
  {
   "cell_type": "code",
   "execution_count": 25,
   "id": "457b4ea0",
   "metadata": {},
   "outputs": [
    {
     "name": "stderr",
     "output_type": "stream",
     "text": [
      "                                                                                                                       "
     ]
    },
    {
     "name": "stdout",
     "output_type": "stream",
     "text": [
      "数据已拉取 2022-06-25 22:44:31\n"
     ]
    },
    {
     "name": "stderr",
     "output_type": "stream",
     "text": [
      "\r"
     ]
    }
   ],
   "source": [
    "df_pool = get_ak_data()\n",
    "print(\"数据已拉取\" + \" \" + dt.datetime.now().strftime(\"%Y-%m-%d %H:%M:%S\"))\n"
   ]
  },
  {
   "cell_type": "code",
   "execution_count": 28,
   "id": "f7997ddd",
   "metadata": {},
   "outputs": [],
   "source": [
    "df_em = df_pool['ODS_STOCK_SPOT_PRICE_EM']\n",
    "df_sina = df_pool['ODS_STOCK_SPOT_PRICE_SINA']"
   ]
  },
  {
   "cell_type": "code",
   "execution_count": 31,
   "id": "d4b703e2",
   "metadata": {},
   "outputs": [
    {
     "data": {
      "text/html": [
       "<div>\n",
       "<style scoped>\n",
       "    .dataframe tbody tr th:only-of-type {\n",
       "        vertical-align: middle;\n",
       "    }\n",
       "\n",
       "    .dataframe tbody tr th {\n",
       "        vertical-align: top;\n",
       "    }\n",
       "\n",
       "    .dataframe thead th {\n",
       "        text-align: right;\n",
       "    }\n",
       "</style>\n",
       "<table border=\"1\" class=\"dataframe\">\n",
       "  <thead>\n",
       "    <tr style=\"text-align: right;\">\n",
       "      <th></th>\n",
       "      <th>序号</th>\n",
       "      <th>代码</th>\n",
       "      <th>名称</th>\n",
       "      <th>最新价</th>\n",
       "      <th>涨跌幅</th>\n",
       "      <th>涨跌额</th>\n",
       "      <th>成交量</th>\n",
       "      <th>成交额</th>\n",
       "      <th>振幅</th>\n",
       "      <th>最高</th>\n",
       "      <th>...</th>\n",
       "      <th>量比</th>\n",
       "      <th>换手率</th>\n",
       "      <th>市盈率-动态</th>\n",
       "      <th>市净率</th>\n",
       "      <th>总市值</th>\n",
       "      <th>流通市值</th>\n",
       "      <th>涨速</th>\n",
       "      <th>5分钟涨跌</th>\n",
       "      <th>60日涨跌幅</th>\n",
       "      <th>年初至今涨跌幅</th>\n",
       "    </tr>\n",
       "  </thead>\n",
       "  <tbody>\n",
       "    <tr>\n",
       "      <th>0</th>\n",
       "      <td>1</td>\n",
       "      <td>688047</td>\n",
       "      <td>N龙芯</td>\n",
       "      <td>89.07</td>\n",
       "      <td>48.30</td>\n",
       "      <td>29.01</td>\n",
       "      <td>242084.0</td>\n",
       "      <td>2.164045e+09</td>\n",
       "      <td>28.75</td>\n",
       "      <td>99.67</td>\n",
       "      <td>...</td>\n",
       "      <td>NaN</td>\n",
       "      <td>77.56</td>\n",
       "      <td>245.16</td>\n",
       "      <td>9.27</td>\n",
       "      <td>3.571707e+10</td>\n",
       "      <td>2.780231e+09</td>\n",
       "      <td>0.21</td>\n",
       "      <td>-0.64</td>\n",
       "      <td>48.30</td>\n",
       "      <td>48.30</td>\n",
       "    </tr>\n",
       "    <tr>\n",
       "      <th>1</th>\n",
       "      <td>2</td>\n",
       "      <td>001316</td>\n",
       "      <td>N润贝</td>\n",
       "      <td>42.05</td>\n",
       "      <td>44.01</td>\n",
       "      <td>12.85</td>\n",
       "      <td>6909.0</td>\n",
       "      <td>2.895817e+07</td>\n",
       "      <td>24.01</td>\n",
       "      <td>42.05</td>\n",
       "      <td>...</td>\n",
       "      <td>NaN</td>\n",
       "      <td>3.45</td>\n",
       "      <td>44.71</td>\n",
       "      <td>3.48</td>\n",
       "      <td>3.364000e+09</td>\n",
       "      <td>8.410000e+08</td>\n",
       "      <td>0.00</td>\n",
       "      <td>0.00</td>\n",
       "      <td>44.01</td>\n",
       "      <td>44.01</td>\n",
       "    </tr>\n",
       "    <tr>\n",
       "      <th>2</th>\n",
       "      <td>3</td>\n",
       "      <td>300731</td>\n",
       "      <td>科创新源</td>\n",
       "      <td>27.76</td>\n",
       "      <td>20.02</td>\n",
       "      <td>4.63</td>\n",
       "      <td>206476.0</td>\n",
       "      <td>5.304367e+08</td>\n",
       "      <td>17.29</td>\n",
       "      <td>27.76</td>\n",
       "      <td>...</td>\n",
       "      <td>1.25</td>\n",
       "      <td>17.49</td>\n",
       "      <td>-77.76</td>\n",
       "      <td>6.01</td>\n",
       "      <td>3.472451e+09</td>\n",
       "      <td>3.277488e+09</td>\n",
       "      <td>0.00</td>\n",
       "      <td>0.00</td>\n",
       "      <td>30.33</td>\n",
       "      <td>-23.95</td>\n",
       "    </tr>\n",
       "    <tr>\n",
       "      <th>3</th>\n",
       "      <td>4</td>\n",
       "      <td>301149</td>\n",
       "      <td>隆华新材</td>\n",
       "      <td>15.47</td>\n",
       "      <td>20.02</td>\n",
       "      <td>2.58</td>\n",
       "      <td>114953.0</td>\n",
       "      <td>1.676971e+08</td>\n",
       "      <td>19.86</td>\n",
       "      <td>15.47</td>\n",
       "      <td>...</td>\n",
       "      <td>3.64</td>\n",
       "      <td>17.41</td>\n",
       "      <td>48.12</td>\n",
       "      <td>4.34</td>\n",
       "      <td>6.652100e+09</td>\n",
       "      <td>1.021450e+09</td>\n",
       "      <td>0.00</td>\n",
       "      <td>0.00</td>\n",
       "      <td>-4.86</td>\n",
       "      <td>-26.68</td>\n",
       "    </tr>\n",
       "    <tr>\n",
       "      <th>4</th>\n",
       "      <td>5</td>\n",
       "      <td>688302</td>\n",
       "      <td>海创药业-U</td>\n",
       "      <td>46.06</td>\n",
       "      <td>20.01</td>\n",
       "      <td>7.68</td>\n",
       "      <td>54087.0</td>\n",
       "      <td>2.404123e+08</td>\n",
       "      <td>19.41</td>\n",
       "      <td>46.06</td>\n",
       "      <td>...</td>\n",
       "      <td>3.62</td>\n",
       "      <td>23.90</td>\n",
       "      <td>-13.12</td>\n",
       "      <td>2.64</td>\n",
       "      <td>4.560658e+09</td>\n",
       "      <td>1.042506e+09</td>\n",
       "      <td>0.00</td>\n",
       "      <td>0.00</td>\n",
       "      <td>7.32</td>\n",
       "      <td>7.32</td>\n",
       "    </tr>\n",
       "  </tbody>\n",
       "</table>\n",
       "<p>5 rows × 23 columns</p>\n",
       "</div>"
      ],
      "text/plain": [
       "   序号      代码      名称    最新价    涨跌幅    涨跌额       成交量           成交额     振幅  \\\n",
       "0   1  688047     N龙芯  89.07  48.30  29.01  242084.0  2.164045e+09  28.75   \n",
       "1   2  001316     N润贝  42.05  44.01  12.85    6909.0  2.895817e+07  24.01   \n",
       "2   3  300731    科创新源  27.76  20.02   4.63  206476.0  5.304367e+08  17.29   \n",
       "3   4  301149    隆华新材  15.47  20.02   2.58  114953.0  1.676971e+08  19.86   \n",
       "4   5  688302  海创药业-U  46.06  20.01   7.68   54087.0  2.404123e+08  19.41   \n",
       "\n",
       "      最高  ...    量比    换手率  市盈率-动态   市净率           总市值          流通市值    涨速  \\\n",
       "0  99.67  ...   NaN  77.56  245.16  9.27  3.571707e+10  2.780231e+09  0.21   \n",
       "1  42.05  ...   NaN   3.45   44.71  3.48  3.364000e+09  8.410000e+08  0.00   \n",
       "2  27.76  ...  1.25  17.49  -77.76  6.01  3.472451e+09  3.277488e+09  0.00   \n",
       "3  15.47  ...  3.64  17.41   48.12  4.34  6.652100e+09  1.021450e+09  0.00   \n",
       "4  46.06  ...  3.62  23.90  -13.12  2.64  4.560658e+09  1.042506e+09  0.00   \n",
       "\n",
       "   5分钟涨跌  60日涨跌幅  年初至今涨跌幅  \n",
       "0  -0.64   48.30    48.30  \n",
       "1   0.00   44.01    44.01  \n",
       "2   0.00   30.33   -23.95  \n",
       "3   0.00   -4.86   -26.68  \n",
       "4   0.00    7.32     7.32  \n",
       "\n",
       "[5 rows x 23 columns]"
      ]
     },
     "execution_count": 31,
     "metadata": {},
     "output_type": "execute_result"
    }
   ],
   "source": [
    "# 数据校验在这里\n",
    "# 数据量\n",
    "df_em.head()\n",
    "\n",
    "# 所有list中的股票数据都有\n",
    "\n",
    "# 数据饱和度\n",
    "# ，是否重复\n"
   ]
  },
  {
   "cell_type": "code",
   "execution_count": null,
   "id": "cc7f1f02",
   "metadata": {},
   "outputs": [],
   "source": [
    "# akshare获取数据\n",
    "    df_pool = get_ak_data()\n",
    "    print(\"数据已拉取\" + \" \" + dt.datetime.now().strftime(\"%Y-%m-%d %H:%M:%S\"))\n",
    "\n",
    "    # 数据质量校验\n",
    "    # 数据饱和度，code重复\n",
    "\n",
    "    # 数据写入\n",
    "    db_ingest(df_pool, Path(dbpath, 'ods.db'), 'replace')"
   ]
  },
  {
   "cell_type": "code",
   "execution_count": null,
   "id": "9135d44b",
   "metadata": {},
   "outputs": [],
   "source": []
  },
  {
   "cell_type": "code",
   "execution_count": null,
   "id": "41d9a52c",
   "metadata": {},
   "outputs": [],
   "source": []
  },
  {
   "cell_type": "code",
   "execution_count": null,
   "id": "a96aa642",
   "metadata": {},
   "outputs": [],
   "source": []
  },
  {
   "cell_type": "code",
   "execution_count": null,
   "id": "5096c166",
   "metadata": {},
   "outputs": [],
   "source": []
  },
  {
   "cell_type": "code",
   "execution_count": null,
   "id": "ebd5ab5c",
   "metadata": {},
   "outputs": [],
   "source": []
  },
  {
   "cell_type": "code",
   "execution_count": null,
   "id": "2e5e071c",
   "metadata": {},
   "outputs": [],
   "source": []
  },
  {
   "cell_type": "code",
   "execution_count": 26,
   "id": "9f76e905",
   "metadata": {},
   "outputs": [
    {
     "name": "stdout",
     "output_type": "stream",
     "text": [
      "2022-06-02 17:30:14\n",
      "220602\n"
     ]
    }
   ],
   "source": [
    "# path\n",
    "dbpath = Path(r'./../db')\n",
    "sqlpath = Path(r\"D:\\jupyteLabData\\finance\\sql\")\n",
    "\n",
    "now = dt.datetime.now()\n",
    "ts = now.strftime(\"%Y-%m-%d %H:%M:%S\")\n",
    "tdy = now.strftime('%y%m%d')\n",
    "\n",
    "# load sql \n",
    "def loadSql(path):\n",
    "    ddl = {}\n",
    "    dml = {}\n",
    "    files = os.listdir(path)\n",
    "    for f in files:\n",
    "        fpath = Path(path,f)\n",
    "        if os.path.isfile(fpath):\n",
    "            filename, extension = os.path.splitext(f)\n",
    "            if extension == \".sql\":\n",
    "                with open(fpath,'r',encoding='utf-8') as tt:\n",
    "                    sql = tt.read().format(tdy)\n",
    "                    tab_name = filename+'_'+tdy\n",
    "                print(\"已读取\"+f)\n",
    "                ddl[tab_name] = sql\n",
    "    return ddl,dml\n",
    "\n",
    "# # parameter \n",
    "# def para_gen():\n",
    "#     tdy = dt.date.today().strftime('%y%m%d')\n"
   ]
  },
  {
   "cell_type": "code",
   "execution_count": 29,
   "id": "094fa8a8",
   "metadata": {},
   "outputs": [
    {
     "name": "stderr",
     "output_type": "stream",
     "text": [
      "                                                                                                                       "
     ]
    },
    {
     "name": "stdout",
     "output_type": "stream",
     "text": [
      "数据已拉取 2022-06-24 23:18:15\n"
     ]
    },
    {
     "name": "stderr",
     "output_type": "stream",
     "text": [
      "\r"
     ]
    },
    {
     "data": {
      "text/html": [
       "<div>\n",
       "<style scoped>\n",
       "    .dataframe tbody tr th:only-of-type {\n",
       "        vertical-align: middle;\n",
       "    }\n",
       "\n",
       "    .dataframe tbody tr th {\n",
       "        vertical-align: top;\n",
       "    }\n",
       "\n",
       "    .dataframe thead th {\n",
       "        text-align: right;\n",
       "    }\n",
       "</style>\n",
       "<table border=\"1\" class=\"dataframe\">\n",
       "  <thead>\n",
       "    <tr style=\"text-align: right;\">\n",
       "      <th></th>\n",
       "      <th>序号</th>\n",
       "      <th>代码</th>\n",
       "      <th>名称</th>\n",
       "      <th>最新价</th>\n",
       "      <th>涨跌幅</th>\n",
       "      <th>涨跌额</th>\n",
       "      <th>成交量</th>\n",
       "      <th>成交额</th>\n",
       "      <th>振幅</th>\n",
       "      <th>最高</th>\n",
       "      <th>...</th>\n",
       "      <th>量比</th>\n",
       "      <th>换手率</th>\n",
       "      <th>市盈率-动态</th>\n",
       "      <th>市净率</th>\n",
       "      <th>总市值</th>\n",
       "      <th>流通市值</th>\n",
       "      <th>涨速</th>\n",
       "      <th>5分钟涨跌</th>\n",
       "      <th>60日涨跌幅</th>\n",
       "      <th>年初至今涨跌幅</th>\n",
       "    </tr>\n",
       "  </thead>\n",
       "  <tbody>\n",
       "    <tr>\n",
       "      <th>0</th>\n",
       "      <td>1</td>\n",
       "      <td>688047</td>\n",
       "      <td>N龙芯</td>\n",
       "      <td>89.07</td>\n",
       "      <td>48.30</td>\n",
       "      <td>29.01</td>\n",
       "      <td>242084.0</td>\n",
       "      <td>2.164045e+09</td>\n",
       "      <td>28.75</td>\n",
       "      <td>99.67</td>\n",
       "      <td>...</td>\n",
       "      <td>NaN</td>\n",
       "      <td>77.56</td>\n",
       "      <td>245.16</td>\n",
       "      <td>9.27</td>\n",
       "      <td>3.571707e+10</td>\n",
       "      <td>2.780231e+09</td>\n",
       "      <td>0.21</td>\n",
       "      <td>-0.64</td>\n",
       "      <td>48.30</td>\n",
       "      <td>48.30</td>\n",
       "    </tr>\n",
       "    <tr>\n",
       "      <th>1</th>\n",
       "      <td>2</td>\n",
       "      <td>001316</td>\n",
       "      <td>N润贝</td>\n",
       "      <td>42.05</td>\n",
       "      <td>44.01</td>\n",
       "      <td>12.85</td>\n",
       "      <td>6909.0</td>\n",
       "      <td>2.895817e+07</td>\n",
       "      <td>24.01</td>\n",
       "      <td>42.05</td>\n",
       "      <td>...</td>\n",
       "      <td>NaN</td>\n",
       "      <td>3.45</td>\n",
       "      <td>44.71</td>\n",
       "      <td>3.48</td>\n",
       "      <td>3.364000e+09</td>\n",
       "      <td>8.410000e+08</td>\n",
       "      <td>0.00</td>\n",
       "      <td>0.00</td>\n",
       "      <td>44.01</td>\n",
       "      <td>44.01</td>\n",
       "    </tr>\n",
       "    <tr>\n",
       "      <th>2</th>\n",
       "      <td>3</td>\n",
       "      <td>300731</td>\n",
       "      <td>科创新源</td>\n",
       "      <td>27.76</td>\n",
       "      <td>20.02</td>\n",
       "      <td>4.63</td>\n",
       "      <td>206476.0</td>\n",
       "      <td>5.304367e+08</td>\n",
       "      <td>17.29</td>\n",
       "      <td>27.76</td>\n",
       "      <td>...</td>\n",
       "      <td>1.25</td>\n",
       "      <td>17.49</td>\n",
       "      <td>-77.76</td>\n",
       "      <td>6.01</td>\n",
       "      <td>3.472451e+09</td>\n",
       "      <td>3.277488e+09</td>\n",
       "      <td>0.00</td>\n",
       "      <td>0.00</td>\n",
       "      <td>30.33</td>\n",
       "      <td>-23.95</td>\n",
       "    </tr>\n",
       "    <tr>\n",
       "      <th>3</th>\n",
       "      <td>4</td>\n",
       "      <td>301149</td>\n",
       "      <td>隆华新材</td>\n",
       "      <td>15.47</td>\n",
       "      <td>20.02</td>\n",
       "      <td>2.58</td>\n",
       "      <td>114953.0</td>\n",
       "      <td>1.676971e+08</td>\n",
       "      <td>19.86</td>\n",
       "      <td>15.47</td>\n",
       "      <td>...</td>\n",
       "      <td>3.64</td>\n",
       "      <td>17.41</td>\n",
       "      <td>48.12</td>\n",
       "      <td>4.34</td>\n",
       "      <td>6.652100e+09</td>\n",
       "      <td>1.021450e+09</td>\n",
       "      <td>0.00</td>\n",
       "      <td>0.00</td>\n",
       "      <td>-4.86</td>\n",
       "      <td>-26.68</td>\n",
       "    </tr>\n",
       "    <tr>\n",
       "      <th>4</th>\n",
       "      <td>5</td>\n",
       "      <td>688302</td>\n",
       "      <td>海创药业-U</td>\n",
       "      <td>46.06</td>\n",
       "      <td>20.01</td>\n",
       "      <td>7.68</td>\n",
       "      <td>54087.0</td>\n",
       "      <td>2.404123e+08</td>\n",
       "      <td>19.41</td>\n",
       "      <td>46.06</td>\n",
       "      <td>...</td>\n",
       "      <td>3.62</td>\n",
       "      <td>23.90</td>\n",
       "      <td>-13.12</td>\n",
       "      <td>2.64</td>\n",
       "      <td>4.560658e+09</td>\n",
       "      <td>1.042506e+09</td>\n",
       "      <td>0.00</td>\n",
       "      <td>0.00</td>\n",
       "      <td>7.32</td>\n",
       "      <td>7.32</td>\n",
       "    </tr>\n",
       "  </tbody>\n",
       "</table>\n",
       "<p>5 rows × 23 columns</p>\n",
       "</div>"
      ],
      "text/plain": [
       "   序号      代码      名称    最新价    涨跌幅    涨跌额       成交量           成交额     振幅  \\\n",
       "0   1  688047     N龙芯  89.07  48.30  29.01  242084.0  2.164045e+09  28.75   \n",
       "1   2  001316     N润贝  42.05  44.01  12.85    6909.0  2.895817e+07  24.01   \n",
       "2   3  300731    科创新源  27.76  20.02   4.63  206476.0  5.304367e+08  17.29   \n",
       "3   4  301149    隆华新材  15.47  20.02   2.58  114953.0  1.676971e+08  19.86   \n",
       "4   5  688302  海创药业-U  46.06  20.01   7.68   54087.0  2.404123e+08  19.41   \n",
       "\n",
       "      最高  ...    量比    换手率  市盈率-动态   市净率           总市值          流通市值    涨速  \\\n",
       "0  99.67  ...   NaN  77.56  245.16  9.27  3.571707e+10  2.780231e+09  0.21   \n",
       "1  42.05  ...   NaN   3.45   44.71  3.48  3.364000e+09  8.410000e+08  0.00   \n",
       "2  27.76  ...  1.25  17.49  -77.76  6.01  3.472451e+09  3.277488e+09  0.00   \n",
       "3  15.47  ...  3.64  17.41   48.12  4.34  6.652100e+09  1.021450e+09  0.00   \n",
       "4  46.06  ...  3.62  23.90  -13.12  2.64  4.560658e+09  1.042506e+09  0.00   \n",
       "\n",
       "   5分钟涨跌  60日涨跌幅  年初至今涨跌幅  \n",
       "0  -0.64   48.30    48.30  \n",
       "1   0.00   44.01    44.01  \n",
       "2   0.00   30.33   -23.95  \n",
       "3   0.00   -4.86   -26.68  \n",
       "4   0.00    7.32     7.32  \n",
       "\n",
       "[5 rows x 23 columns]"
      ]
     },
     "execution_count": 29,
     "metadata": {},
     "output_type": "execute_result"
    }
   ],
   "source": [
    "# 收集当天实时数据\n",
    "# 东财\n",
    "rt_em = ak.stock_zh_a_spot_em()\n",
    "# 新浪\n",
    "rt_sina = ak.stock_zh_a_spot()\n",
    "print(\"数据已拉取\"+\" \"+ ts)\n",
    "rt_em.head()"
   ]
  },
  {
   "cell_type": "code",
   "execution_count": 30,
   "id": "0ae4f1e8",
   "metadata": {},
   "outputs": [
    {
     "name": "stdout",
     "output_type": "stream",
     "text": [
      "5014\n",
      "4826\n"
     ]
    }
   ],
   "source": [
    "# print(rt_sina[\"代码\"].count())\n",
    "print(rt_em[\"代码\"].count())\n",
    "print(rt_sina[\"代码\"].count())"
   ]
  },
  {
   "cell_type": "code",
   "execution_count": 8,
   "id": "c51223cb",
   "metadata": {},
   "outputs": [
    {
     "data": {
      "text/plain": [
       "Index(['序号', '代码', '名称', '最新价', '涨跌幅', '涨跌额', '成交量', '成交额', '振幅', '最高', '最低',\n",
       "       '今开', '昨收', '量比', '换手率', '市盈率-动态', '市净率', '总市值', '流通市值', '涨速', '5分钟涨跌',\n",
       "       '60日涨跌幅', '年初至今涨跌幅'],\n",
       "      dtype='object')"
      ]
     },
     "execution_count": 8,
     "metadata": {},
     "output_type": "execute_result"
    }
   ],
   "source": [
    "\n",
    "rt_em.columns"
   ]
  },
  {
   "cell_type": "code",
   "execution_count": 16,
   "id": "61529910",
   "metadata": {},
   "outputs": [
    {
     "name": "stdout",
     "output_type": "stream",
     "text": [
      "(5014, 23)\n"
     ]
    },
    {
     "data": {
      "text/plain": [
       "Index(['序号', 'code', 'name', 'price_ltst', 'chg_pct', 'chg', 'vol', 'amt',\n",
       "       '振幅', 'price_high', 'price_low', 'price_open', 'price_close_pre',\n",
       "       'vol_ratio', 'turnover_rt', 'pe', 'pb', 'total_mv', 'circ_mv', '涨速',\n",
       "       '5分钟涨跌', 'chg_pct_60d', 'chg_pct_y'],\n",
       "      dtype='object')"
      ]
     },
     "execution_count": 16,
     "metadata": {},
     "output_type": "execute_result"
    }
   ],
   "source": [
    "# 数据清洗\n",
    "em_map = {\"代码\": \"code\", \"名称\": \"name\", \"最新价\": \"latest_price\", \"涨跌幅\": \"change_percent\",\"涨跌额\": \"change\", \"成交量\": \"amount\",\n",
    "          \"成交额\": \"volume\", \"最高\": \"high\", \"最低\": \"low\", \"今开\": \"open\", \"昨收\": \"yesterday_close\" }\n",
    "# 数据清洗\n",
    "em_map1 = {\"代码\": \"code\", \"名称\": \"name\", \"最新价\": \"price_ltst\", \"涨跌幅\": \"chg_pct\",\"涨跌额\": \"chg\", \"成交量\": \"vol\",\n",
    "          \"成交额\": \"amt\", \"最高\": \"price_high\", \"最低\": \"price_low\", \"今开\": \"price_open\", \"昨收\": \"price_close_pre\", \"量比\": \"vol_ratio\", \"换手率\": \"turnover_rt\",\n",
    "          \"市盈率-动态\": \"pe\", \"市净率\": \"pb\", \"总市值\": \"total_mv\", \"流通市值\": \"circ_mv\", \"60日涨跌幅\": \"chg_pct_60d\", \"年初至今涨跌幅\": \"chg_pct_y\"}\n",
    "\n",
    "# rt_em_pre = rt_em[[\"代码\",\"名称\",\"最新价\",\"涨跌幅\",\"涨跌额\",\"成交量\",\"成交额\",\"最高\",\"最低\",\"今开\",\"昨收\"]]\\\n",
    "#             .rename(columns=em_map)\n",
    "rt_em_pre = rt_em.rename(columns=em_map1)\n",
    "print(rt_em_pre.shape)\n",
    "# print(rt_sina_pre.shape())\n",
    "rt_em_pre.columns\n",
    "\n",
    "\n",
    "\n"
   ]
  },
  {
   "cell_type": "code",
   "execution_count": 42,
   "id": "ed27288b",
   "metadata": {},
   "outputs": [
    {
     "name": "stdout",
     "output_type": "stream",
     "text": [
      "(5014, 22)\n"
     ]
    }
   ],
   "source": [
    "rt_em_pre1 = rt_em_pre.drop(['序号','振幅','涨速','5分钟涨跌'],axis=1)\n",
    "rt_em_pre1['event_date'] = datetdy\n",
    "rt_em_pre1['pk'] = datetdy+'_'+rt_em_pre1['code'] \n",
    "rt_em_pre1['price_close'] = rt_em_pre1['price_ltst']\n",
    "print(rt_em_pre1.shape)\n",
    "rt_em_pre1.columns\n",
    "rt_em_pre1.head()\n",
    "\n",
    "\n",
    "rt_sina_pre = rt_sina.rename(columns=em_map1)"
   ]
  },
  {
   "cell_type": "code",
   "execution_count": 39,
   "id": "0ec36b2d",
   "metadata": {},
   "outputs": [
    {
     "name": "stdout",
     "output_type": "stream",
     "text": [
      "已读取ODS_SPOT_PRICE_EM.sql\n",
      "数据库打开成功\n",
      "执行ddl ODS_SPOT_PRICE_EM_220602\n",
      "插入数据ODS_SPOT_PRICE_EM_220602\n",
      "ddl全部执行成功\n",
      "数据写入成功\n",
      "数据库关闭\n"
     ]
    }
   ],
   "source": [
    "# 读取sql\n",
    "ddl, dml = loadSql(sqlpath)\n",
    "\n",
    "conn = sqlite3.connect(Path(dbpath,'finance.db'))\n",
    "print(\"数据库打开成功\")\n",
    "\n",
    "# 执行ddl,并写入数据\n",
    "for k,v in ddl.items():\n",
    "    conn.executescript(v)\n",
    "    print(\"执行ddl \"+k)\n",
    "    rt_em_pre.to_sql(name=k,con=conn,if_exists='append',index=False)\n",
    "    print(\"插入数据 \"+k)\n",
    "print(\"ddl全部执行成功\")\n",
    "\n",
    "# 写入当天数据\n",
    "conn.commit()\n",
    "print(\"数据写入成功\")\n",
    "\n",
    "# 数据校验\n",
    "\n",
    "\n",
    "conn.commit()\n",
    "conn.close()\n",
    "print(\"数据库关闭\")"
   ]
  },
  {
   "cell_type": "code",
   "execution_count": null,
   "id": "d4bdac3d",
   "metadata": {},
   "outputs": [],
   "source": [
    "conn = sqlite3.connect(Path(dbpath,'finance.db'))\n",
    "print(\"数据库打开成功\")\n",
    "\n",
    "# 执行ddl,并写入数据\n",
    "for k,v in ddl.items():\n",
    "    conn.executescript(v)\n",
    "    print(\"执行ddl \"+k)\n",
    "    rt_em_pre.to_sql(name=k,con=conn,if_exists='append',index=False)\n",
    "    print(\"插入数据 \"+k)\n",
    "print(\"ddl全部执行成功\")\n",
    "\n",
    "# 写入当天数据\n",
    "conn.commit()\n",
    "print(\"数据写入成功\")\n",
    "\n",
    "# 数据校验\n",
    "\n",
    "\n",
    "conn.commit()\n",
    "conn.close()\n",
    "print(\"数据库关闭\")\n",
    "\n"
   ]
  },
  {
   "cell_type": "code",
   "execution_count": 14,
   "id": "e30f3b47",
   "metadata": {},
   "outputs": [
    {
     "data": {
      "text/plain": [
       "WindowsPath('../db')"
      ]
     },
     "execution_count": 14,
     "metadata": {},
     "output_type": "execute_result"
    }
   ],
   "source": [
    "Path(r'./../db')"
   ]
  },
  {
   "cell_type": "code",
   "execution_count": 15,
   "id": "bbf64cc3",
   "metadata": {},
   "outputs": [
    {
     "data": {
      "text/plain": [
       "['finance.db', 'id_cache.db', 'id_cache.db-shm', 'id_cache.db-wal']"
      ]
     },
     "execution_count": 15,
     "metadata": {},
     "output_type": "execute_result"
    }
   ],
   "source": [
    "os.listdir(Path(r'./../db'))"
   ]
  },
  {
   "cell_type": "code",
   "execution_count": 43,
   "id": "5a5dd9c6",
   "metadata": {},
   "outputs": [
    {
     "name": "stdout",
     "output_type": "stream",
     "text": [
      "数据库打开成功\n",
      "插入数据 sina0624\n",
      "数据写入成功\n",
      "数据库关闭\n"
     ]
    }
   ],
   "source": [
    "conn = sqlite3.connect(Path(Path(r'./../db'),'finance.db'))\n",
    "print(\"数据库打开成功\")\n",
    "\n",
    "k = r'sina0624'\n",
    "rt_sina_pre.to_sql(name=k,con=conn,if_exists='append',index=False)\n",
    "print(\"插入数据 \"+k)\n",
    "\n",
    "# 写入当天数据\n",
    "conn.commit()\n",
    "print(\"数据写入成功\")\n",
    "\n",
    "# 数据校验\n",
    "\n",
    "\n",
    "conn.commit()\n",
    "conn.close()\n",
    "print(\"数据库关闭\")"
   ]
  },
  {
   "cell_type": "code",
   "execution_count": null,
   "id": "706829c3",
   "metadata": {},
   "outputs": [],
   "source": []
  }
 ],
 "metadata": {
  "kernelspec": {
   "display_name": "finance",
   "language": "python",
   "name": "finance"
  },
  "language_info": {
   "codemirror_mode": {
    "name": "ipython",
    "version": 3
   },
   "file_extension": ".py",
   "mimetype": "text/x-python",
   "name": "python",
   "nbconvert_exporter": "python",
   "pygments_lexer": "ipython3",
   "version": "3.8.5"
  }
 },
 "nbformat": 4,
 "nbformat_minor": 5
}
